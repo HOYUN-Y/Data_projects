{
 "cells": [
  {
   "cell_type": "code",
   "execution_count": 1,
   "id": "e5c3e66a",
   "metadata": {},
   "outputs": [],
   "source": [
    "import pandas as pd\n",
    "import numpy as np"
   ]
  },
  {
   "cell_type": "code",
   "execution_count": 5,
   "id": "073aa8f6",
   "metadata": {},
   "outputs": [
    {
     "data": {
      "text/plain": [
       "<bound method NDFrame.head of        집계년도  시군명 관리기관명               단속일시정보                           단속장소  \\\n",
       "0      2022  수원시  권선구청  2022-12-08 10:01:00                   금곡동 금곡로197번길   \n",
       "1      2022  수원시  권선구청  2022-12-08 10:01:00                   금곡동 금곡로197번길   \n",
       "2      2022  수원시  권선구청  2022-12-08 10:01:00                   금곡동 금곡로197번길   \n",
       "3      2022  수원시  권선구청  2022-12-08 10:02:00                   금곡동 금곡로197번길   \n",
       "4      2022  수원시  권선구청  2022-12-08 10:03:00                   금곡동 금곡로197번길   \n",
       "...     ...  ...   ...                  ...                            ...   \n",
       "99995  2023  수원시  팔달구청  2023-05-10 14:50:00  경기도수원시팔달구교동 수원시 팔달구 교동 171-10   \n",
       "99996  2023  수원시  팔달구청  2023-05-10 14:50:00  경기도수원시팔달구교동 수원시 팔달구 교동 171-10   \n",
       "99997  2023  수원시  팔달구청  2023-05-10 14:53:00  경기도수원시팔달구교동 수원시 팔달구 교동 171-10   \n",
       "99998  2023  수원시  영통구청  2023-05-10 14:57:00    경기도수원시영통구신동 수원시 영통구 신원로 126   \n",
       "99999  2023  수원시  팔달구청  2023-05-10 15:00:00               인계동 인계동 인계로138번길   \n",
       "\n",
       "      단속방법     데이터기준일자  단속일시_월  단속일시_연  단속일시_일    단속일시_요일  단속일시_시  \\\n",
       "0      주행형  2023-12-01      12    2022       8   Thursday      10   \n",
       "1      주행형  2023-12-01      12    2022       8   Thursday      10   \n",
       "2      주행형  2023-12-01      12    2022       8   Thursday      10   \n",
       "3      주행형  2023-12-01      12    2022       8   Thursday      10   \n",
       "4      주행형  2023-12-01      12    2022       8   Thursday      10   \n",
       "...    ...         ...     ...     ...     ...        ...     ...   \n",
       "99995   보행  2023-12-01       5    2023      10  Wednesday      14   \n",
       "99996   보행  2023-12-01       5    2023      10  Wednesday      14   \n",
       "99997   보행  2023-12-01       5    2023      10  Wednesday      14   \n",
       "99998   보행  2023-12-01       5    2023      10  Wednesday      14   \n",
       "99999  주행형  2023-12-01       5    2023      10  Wednesday      15   \n",
       "\n",
       "      단속일시_isdaytime 단속일시_season   latitude   longitude  \n",
       "0            morning      winter  37.275389  126.952941  \n",
       "1            morning      winter  37.275389  126.952941  \n",
       "2            morning      winter  37.275389  126.952941  \n",
       "3            morning      winter  37.275389  126.952941  \n",
       "4            morning      winter  37.275389  126.952941  \n",
       "...              ...         ...        ...         ...  \n",
       "99995      afternoon      spring        NaN         NaN  \n",
       "99996      afternoon      spring        NaN         NaN  \n",
       "99997      afternoon      spring        NaN         NaN  \n",
       "99998      afternoon      spring  37.248583  127.055191  \n",
       "99999      afternoon      spring  37.265867  127.032290  \n",
       "\n",
       "[100000 rows x 16 columns]>"
      ]
     },
     "metadata": {},
     "output_type": "display_data"
    },
    {
     "data": {
      "text/plain": [
       "집계년도                 0\n",
       "시군명                  0\n",
       "관리기관명                0\n",
       "단속일시정보               0\n",
       "단속장소                 0\n",
       "단속방법                 0\n",
       "데이터기준일자              0\n",
       "단속일시_월               0\n",
       "단속일시_연               0\n",
       "단속일시_일               0\n",
       "단속일시_요일              0\n",
       "단속일시_시               0\n",
       "단속일시_isdaytime       0\n",
       "단속일시_season          0\n",
       "latitude          4600\n",
       "longitude         4600\n",
       "dtype: int64"
      ]
     },
     "metadata": {},
     "output_type": "display_data"
    }
   ],
   "source": [
    "data3 = pd.read_csv('./processed_data/data3_processed_data.csv')\n",
    "display(data3.head)\n",
    "\n",
    "display(data3.isna().sum())"
   ]
  },
  {
   "cell_type": "code",
   "execution_count": null,
   "id": "4dd64fb8",
   "metadata": {},
   "outputs": [],
   "source": []
  }
 ],
 "metadata": {
  "kernelspec": {
   "display_name": "data_venv",
   "language": "python",
   "name": "python3"
  },
  "language_info": {
   "codemirror_mode": {
    "name": "ipython",
    "version": 3
   },
   "file_extension": ".py",
   "mimetype": "text/x-python",
   "name": "python",
   "nbconvert_exporter": "python",
   "pygments_lexer": "ipython3",
   "version": "3.10.18"
  }
 },
 "nbformat": 4,
 "nbformat_minor": 5
}
