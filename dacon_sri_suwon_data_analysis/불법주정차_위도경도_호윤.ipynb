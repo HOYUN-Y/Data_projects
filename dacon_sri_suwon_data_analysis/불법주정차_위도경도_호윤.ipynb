{
 "cells": [
  {
   "cell_type": "markdown",
   "id": "abe8f97c",
   "metadata": {},
   "source": [
    "# 불법주정차 데이터 위도/경도 수집 (Kakao Api)\n",
    "- https://developers.kakao.com\n",
    "- 카카오맵 api 허용 설정 필수"
   ]
  },
  {
   "cell_type": "markdown",
   "id": "b5ba362e",
   "metadata": {},
   "source": [
    "### Present working directory"
   ]
  },
  {
   "cell_type": "code",
   "execution_count": 1,
   "id": "45c5e0a4",
   "metadata": {},
   "outputs": [
    {
     "name": "stdout",
     "output_type": "stream",
     "text": [
      "/Users/hoyun/Documents/GitHub/Data_projects/dacon_sri_suwon_data_analysis\n"
     ]
    }
   ],
   "source": [
    "!pwd"
   ]
  },
  {
   "cell_type": "markdown",
   "id": "e537e1ff",
   "metadata": {},
   "source": [
    "### 패키지 설치"
   ]
  },
  {
   "cell_type": "code",
   "execution_count": 2,
   "id": "33962f8e",
   "metadata": {},
   "outputs": [
    {
     "name": "stdout",
     "output_type": "stream",
     "text": [
      "Requirement already satisfied: pandas in /opt/anaconda3/envs/data_venv/lib/python3.10/site-packages (2.3.0)\n",
      "Requirement already satisfied: numpy in /opt/anaconda3/envs/data_venv/lib/python3.10/site-packages (2.2.6)\n",
      "Requirement already satisfied: tqdm in /opt/anaconda3/envs/data_venv/lib/python3.10/site-packages (4.67.1)\n",
      "Requirement already satisfied: requests in /opt/anaconda3/envs/data_venv/lib/python3.10/site-packages (2.32.4)\n",
      "Requirement already satisfied: python-dateutil>=2.8.2 in /opt/anaconda3/envs/data_venv/lib/python3.10/site-packages (from pandas) (2.9.0.post0)\n",
      "Requirement already satisfied: pytz>=2020.1 in /opt/anaconda3/envs/data_venv/lib/python3.10/site-packages (from pandas) (2025.2)\n",
      "Requirement already satisfied: tzdata>=2022.7 in /opt/anaconda3/envs/data_venv/lib/python3.10/site-packages (from pandas) (2025.2)\n",
      "Requirement already satisfied: charset_normalizer<4,>=2 in /opt/anaconda3/envs/data_venv/lib/python3.10/site-packages (from requests) (3.4.2)\n",
      "Requirement already satisfied: idna<4,>=2.5 in /opt/anaconda3/envs/data_venv/lib/python3.10/site-packages (from requests) (3.10)\n",
      "Requirement already satisfied: urllib3<3,>=1.21.1 in /opt/anaconda3/envs/data_venv/lib/python3.10/site-packages (from requests) (2.5.0)\n",
      "Requirement already satisfied: certifi>=2017.4.17 in /opt/anaconda3/envs/data_venv/lib/python3.10/site-packages (from requests) (2025.6.15)\n",
      "Requirement already satisfied: six>=1.5 in /opt/anaconda3/envs/data_venv/lib/python3.10/site-packages (from python-dateutil>=2.8.2->pandas) (1.17.0)\n"
     ]
    }
   ],
   "source": [
    "!pip install pandas numpy tqdm requests"
   ]
  },
  {
   "cell_type": "markdown",
   "id": "35302dbb",
   "metadata": {},
   "source": [
    "### 패키지 선언"
   ]
  },
  {
   "cell_type": "code",
   "execution_count": 3,
   "id": "8485f007",
   "metadata": {},
   "outputs": [],
   "source": [
    "import pandas as pd\n",
    "import numpy as np\n",
    "from tqdm import tqdm\n",
    "import time\n",
    "import json\n",
    "import requests"
   ]
  },
  {
   "cell_type": "markdown",
   "id": "f7651f77",
   "metadata": {},
   "source": [
    "### 카카오 API키 및 API 동작확인"
   ]
  },
  {
   "cell_type": "code",
   "execution_count": 7,
   "id": "e313473c",
   "metadata": {},
   "outputs": [],
   "source": [
    "import os\n",
    "from dotenv import load_dotenv\n",
    "\n",
    "load_dotenv()\n",
    "KAKAO_API_KEY = os.getenv(\"KAKAO_API_KEY\")\n",
    "api_key = KAKAO_API_KEY"
   ]
  },
  {
   "cell_type": "code",
   "execution_count": 8,
   "id": "1ebf7e74",
   "metadata": {},
   "outputs": [
    {
     "data": {
      "text/plain": [
       "{'documents': [{'address': {'address_name': '서울 송파구 장지동 878',\n",
       "    'b_code': '1171010900',\n",
       "    'h_code': '1171064700',\n",
       "    'main_address_no': '878',\n",
       "    'mountain_yn': 'N',\n",
       "    'region_1depth_name': '서울',\n",
       "    'region_2depth_name': '송파구',\n",
       "    'region_3depth_h_name': '위례동',\n",
       "    'region_3depth_name': '장지동',\n",
       "    'sub_address_no': '',\n",
       "    'x': '127.14004016241',\n",
       "    'y': '37.4804774688545'},\n",
       "   'address_name': '서울 송파구 위례광장로 185',\n",
       "   'address_type': 'ROAD_ADDR',\n",
       "   'road_address': {'address_name': '서울 송파구 위례광장로 185',\n",
       "    'building_name': '위례신도시 송파푸르지오',\n",
       "    'main_building_no': '185',\n",
       "    'region_1depth_name': '서울',\n",
       "    'region_2depth_name': '송파구',\n",
       "    'region_3depth_name': '장지동',\n",
       "    'road_name': '위례광장로',\n",
       "    'sub_building_no': '',\n",
       "    'underground_yn': 'N',\n",
       "    'x': '127.14004016241',\n",
       "    'y': '37.4804774688545',\n",
       "    'zone_no': '05848'},\n",
       "   'x': '127.14004016241',\n",
       "   'y': '37.4804774688545'}],\n",
       " 'meta': {'is_end': True, 'pageable_count': 1, 'total_count': 1}}"
      ]
     },
     "metadata": {},
     "output_type": "display_data"
    }
   ],
   "source": [
    "addr = '서울시 송파구 위례광장로 185'\n",
    "url = 'https://dapi.kakao.com/v2/local/search/address.json?query={address}'.format(address=addr)\n",
    "headers = {\n",
    "    \"Authorization\": f\"KakaoAK {api_key}\"\n",
    "}\n",
    "params = {\"query\": addr}\n",
    "\n",
    "result = json.loads(str(requests.get(url, headers=headers).text))\n",
    "display(result)"
   ]
  },
  {
   "cell_type": "markdown",
   "id": "387eeca9",
   "metadata": {},
   "source": [
    "### 데이터 불러오기"
   ]
  },
  {
   "cell_type": "code",
   "execution_count": 9,
   "id": "4ca617a3",
   "metadata": {},
   "outputs": [],
   "source": [
    "#10만개 단위(약 40만개)\n",
    "data1 = pd.read_csv('parking_notcctv_1.csv')\n",
    "data2 = pd.read_csv('parking_notcctv_2.csv')\n",
    "data3 = pd.read_csv('parking_notcctv_3.csv')\n",
    "data4 = pd.read_csv('parking_notcctv_4.csv')\n",
    "data5 = pd.read_csv('parking_notcctv_5.csv')"
   ]
  },
  {
   "cell_type": "markdown",
   "id": "16c5a387",
   "metadata": {},
   "source": [
    "### 데이터 수집 및 적용 함수"
   ]
  },
  {
   "cell_type": "code",
   "execution_count": 10,
   "id": "69082c67",
   "metadata": {},
   "outputs": [],
   "source": [
    "def get_lat_lng(addr):\n",
    "    headers = {\n",
    "        \"Authorization\": f\"KakaoAK {api_key}\"\n",
    "    }\n",
    "    params = {\"query\": addr}\n",
    "    url = \"https://dapi.kakao.com/v2/local/search/address.json\"\n",
    "    \n",
    "    response = requests.get(url, headers=headers, params=params)\n",
    "    time.sleep(0.15)\n",
    "    if response.status_code == 200:\n",
    "        documents = response.json().get(\"documents\")\n",
    "        if documents:\n",
    "            return float(documents[0][\"y\"]), float(documents[0][\"x\"])  # 위도, 경도\n",
    "    return None, None\n",
    "\n",
    "\n",
    "def add_to_pos(data):\n",
    "    tqdm.pandas()\n",
    "\n",
    "    latitudes = []\n",
    "    longitudes = []\n",
    "\n",
    "    for i,(_, row) in enumerate(tqdm(data.iterrows(), total=len(data))):\n",
    "        if i>0 and i%1000 == 0:\n",
    "            print(f'{i} rows. 중간 딜레이 5se\\n')\n",
    "    \n",
    "        \n",
    "        lat,lng = get_lat_lng(row['단속장소'])\n",
    "        latitudes.append(lat)\n",
    "        longitudes.append(lng)\n",
    "\n",
    "    data['latitude'] = latitudes\n",
    "    data['longitude'] = longitudes\n",
    "\n",
    "    #display(data.head(10))\n",
    "    return data"
   ]
  },
  {
   "cell_type": "code",
   "execution_count": 11,
   "id": "848c99db",
   "metadata": {},
   "outputs": [],
   "source": [
    "#샘플 테스트\n",
    "sample=data1.sample(100)"
   ]
  },
  {
   "cell_type": "markdown",
   "id": "36984cee",
   "metadata": {},
   "source": [
    "### 적용"
   ]
  },
  {
   "cell_type": "code",
   "execution_count": 12,
   "id": "3af1e4b3",
   "metadata": {},
   "outputs": [
    {
     "name": "stderr",
     "output_type": "stream",
     "text": [
      "100%|██████████| 100/100 [00:26<00:00,  3.81it/s]\n"
     ]
    },
    {
     "data": {
      "text/html": [
       "<div>\n",
       "<style scoped>\n",
       "    .dataframe tbody tr th:only-of-type {\n",
       "        vertical-align: middle;\n",
       "    }\n",
       "\n",
       "    .dataframe tbody tr th {\n",
       "        vertical-align: top;\n",
       "    }\n",
       "\n",
       "    .dataframe thead th {\n",
       "        text-align: right;\n",
       "    }\n",
       "</style>\n",
       "<table border=\"1\" class=\"dataframe\">\n",
       "  <thead>\n",
       "    <tr style=\"text-align: right;\">\n",
       "      <th></th>\n",
       "      <th>집계년도</th>\n",
       "      <th>시군명</th>\n",
       "      <th>관리기관명</th>\n",
       "      <th>단속일시정보</th>\n",
       "      <th>단속장소</th>\n",
       "      <th>단속방법</th>\n",
       "      <th>데이터기준일자</th>\n",
       "      <th>단속일시_월</th>\n",
       "      <th>단속일시_연</th>\n",
       "      <th>단속일시_일</th>\n",
       "      <th>단속일시_요일</th>\n",
       "      <th>단속일시_시</th>\n",
       "      <th>단속일시_isdaytime</th>\n",
       "      <th>단속일시_season</th>\n",
       "      <th>latitude</th>\n",
       "      <th>longitude</th>\n",
       "    </tr>\n",
       "  </thead>\n",
       "  <tbody>\n",
       "    <tr>\n",
       "      <th>75821</th>\n",
       "      <td>2022</td>\n",
       "      <td>수원시</td>\n",
       "      <td>팔달구청</td>\n",
       "      <td>2022-05-25 14:15:00</td>\n",
       "      <td>고등동 고등동 고등로33번길</td>\n",
       "      <td>주행형</td>\n",
       "      <td>2023-12-01</td>\n",
       "      <td>5</td>\n",
       "      <td>2022</td>\n",
       "      <td>25</td>\n",
       "      <td>Wednesday</td>\n",
       "      <td>14</td>\n",
       "      <td>afternoon</td>\n",
       "      <td>spring</td>\n",
       "      <td>37.274043</td>\n",
       "      <td>127.001757</td>\n",
       "    </tr>\n",
       "    <tr>\n",
       "      <th>48075</th>\n",
       "      <td>2022</td>\n",
       "      <td>수원시</td>\n",
       "      <td>권선구청</td>\n",
       "      <td>2022-04-07 08:09:00</td>\n",
       "      <td>호매실동 금호로</td>\n",
       "      <td>주행형</td>\n",
       "      <td>2023-12-01</td>\n",
       "      <td>4</td>\n",
       "      <td>2022</td>\n",
       "      <td>7</td>\n",
       "      <td>Thursday</td>\n",
       "      <td>8</td>\n",
       "      <td>morning</td>\n",
       "      <td>spring</td>\n",
       "      <td>NaN</td>\n",
       "      <td>NaN</td>\n",
       "    </tr>\n",
       "    <tr>\n",
       "      <th>85872</th>\n",
       "      <td>2022</td>\n",
       "      <td>수원시</td>\n",
       "      <td>영통구청</td>\n",
       "      <td>2022-06-13 08:14:00</td>\n",
       "      <td>매탄동 매탄로126번길</td>\n",
       "      <td>주행형</td>\n",
       "      <td>2023-12-01</td>\n",
       "      <td>6</td>\n",
       "      <td>2022</td>\n",
       "      <td>13</td>\n",
       "      <td>Monday</td>\n",
       "      <td>8</td>\n",
       "      <td>morning</td>\n",
       "      <td>summer</td>\n",
       "      <td>37.261470</td>\n",
       "      <td>127.046333</td>\n",
       "    </tr>\n",
       "    <tr>\n",
       "      <th>58804</th>\n",
       "      <td>2022</td>\n",
       "      <td>수원시</td>\n",
       "      <td>권선구청</td>\n",
       "      <td>2022-04-25 11:15:00</td>\n",
       "      <td>경기도수원시권선구권선동 수원시 권선구 경수대로 371-1구두수선대 2019 13</td>\n",
       "      <td>보행</td>\n",
       "      <td>2023-12-01</td>\n",
       "      <td>4</td>\n",
       "      <td>2022</td>\n",
       "      <td>25</td>\n",
       "      <td>Monday</td>\n",
       "      <td>11</td>\n",
       "      <td>morning</td>\n",
       "      <td>spring</td>\n",
       "      <td>37.259704</td>\n",
       "      <td>127.023286</td>\n",
       "    </tr>\n",
       "    <tr>\n",
       "      <th>40417</th>\n",
       "      <td>2022</td>\n",
       "      <td>수원시</td>\n",
       "      <td>권선구청</td>\n",
       "      <td>2022-03-24 10:39:00</td>\n",
       "      <td>고색동 산업로155번길</td>\n",
       "      <td>주행형</td>\n",
       "      <td>2023-12-01</td>\n",
       "      <td>3</td>\n",
       "      <td>2022</td>\n",
       "      <td>24</td>\n",
       "      <td>Thursday</td>\n",
       "      <td>10</td>\n",
       "      <td>morning</td>\n",
       "      <td>spring</td>\n",
       "      <td>37.245967</td>\n",
       "      <td>126.985438</td>\n",
       "    </tr>\n",
       "    <tr>\n",
       "      <th>...</th>\n",
       "      <td>...</td>\n",
       "      <td>...</td>\n",
       "      <td>...</td>\n",
       "      <td>...</td>\n",
       "      <td>...</td>\n",
       "      <td>...</td>\n",
       "      <td>...</td>\n",
       "      <td>...</td>\n",
       "      <td>...</td>\n",
       "      <td>...</td>\n",
       "      <td>...</td>\n",
       "      <td>...</td>\n",
       "      <td>...</td>\n",
       "      <td>...</td>\n",
       "      <td>...</td>\n",
       "      <td>...</td>\n",
       "    </tr>\n",
       "    <tr>\n",
       "      <th>42995</th>\n",
       "      <td>2022</td>\n",
       "      <td>수원시</td>\n",
       "      <td>팔달구청</td>\n",
       "      <td>2022-03-29 10:33:00</td>\n",
       "      <td>경기도수원시장안구정자동 수원시 팔달구 효원로 292번길 33-22</td>\n",
       "      <td>보행</td>\n",
       "      <td>2023-12-01</td>\n",
       "      <td>3</td>\n",
       "      <td>2022</td>\n",
       "      <td>29</td>\n",
       "      <td>Tuesday</td>\n",
       "      <td>10</td>\n",
       "      <td>morning</td>\n",
       "      <td>spring</td>\n",
       "      <td>NaN</td>\n",
       "      <td>NaN</td>\n",
       "    </tr>\n",
       "    <tr>\n",
       "      <th>93495</th>\n",
       "      <td>2022</td>\n",
       "      <td>수원시</td>\n",
       "      <td>권선구청</td>\n",
       "      <td>2022-06-25 16:57:00</td>\n",
       "      <td>당수동 742</td>\n",
       "      <td>국민신문고</td>\n",
       "      <td>2023-12-01</td>\n",
       "      <td>6</td>\n",
       "      <td>2022</td>\n",
       "      <td>25</td>\n",
       "      <td>Saturday</td>\n",
       "      <td>16</td>\n",
       "      <td>afternoon</td>\n",
       "      <td>summer</td>\n",
       "      <td>37.292930</td>\n",
       "      <td>126.939038</td>\n",
       "    </tr>\n",
       "    <tr>\n",
       "      <th>58348</th>\n",
       "      <td>2022</td>\n",
       "      <td>수원시</td>\n",
       "      <td>장안구청</td>\n",
       "      <td>2022-04-24 16:16:00</td>\n",
       "      <td>정자동 장안로104번길</td>\n",
       "      <td>주행형</td>\n",
       "      <td>2023-12-01</td>\n",
       "      <td>4</td>\n",
       "      <td>2022</td>\n",
       "      <td>24</td>\n",
       "      <td>Sunday</td>\n",
       "      <td>16</td>\n",
       "      <td>afternoon</td>\n",
       "      <td>spring</td>\n",
       "      <td>37.293701</td>\n",
       "      <td>127.002320</td>\n",
       "    </tr>\n",
       "    <tr>\n",
       "      <th>41451</th>\n",
       "      <td>2022</td>\n",
       "      <td>수원시</td>\n",
       "      <td>팔달구청</td>\n",
       "      <td>2022-03-25 15:07:00</td>\n",
       "      <td>경기도수원시팔달구화서동 수원시 팔달구 매산로2가 3-5</td>\n",
       "      <td>보행</td>\n",
       "      <td>2023-12-01</td>\n",
       "      <td>3</td>\n",
       "      <td>2022</td>\n",
       "      <td>25</td>\n",
       "      <td>Friday</td>\n",
       "      <td>15</td>\n",
       "      <td>afternoon</td>\n",
       "      <td>spring</td>\n",
       "      <td>NaN</td>\n",
       "      <td>NaN</td>\n",
       "    </tr>\n",
       "    <tr>\n",
       "      <th>30712</th>\n",
       "      <td>2022</td>\n",
       "      <td>수원시</td>\n",
       "      <td>권선구청</td>\n",
       "      <td>2022-03-07 09:01:00</td>\n",
       "      <td>탑동 상탑로</td>\n",
       "      <td>주행형</td>\n",
       "      <td>2023-12-01</td>\n",
       "      <td>3</td>\n",
       "      <td>2022</td>\n",
       "      <td>7</td>\n",
       "      <td>Monday</td>\n",
       "      <td>9</td>\n",
       "      <td>morning</td>\n",
       "      <td>spring</td>\n",
       "      <td>37.271926</td>\n",
       "      <td>126.973332</td>\n",
       "    </tr>\n",
       "  </tbody>\n",
       "</table>\n",
       "<p>100 rows × 16 columns</p>\n",
       "</div>"
      ],
      "text/plain": [
       "       집계년도  시군명 관리기관명               단속일시정보  \\\n",
       "75821  2022  수원시  팔달구청  2022-05-25 14:15:00   \n",
       "48075  2022  수원시  권선구청  2022-04-07 08:09:00   \n",
       "85872  2022  수원시  영통구청  2022-06-13 08:14:00   \n",
       "58804  2022  수원시  권선구청  2022-04-25 11:15:00   \n",
       "40417  2022  수원시  권선구청  2022-03-24 10:39:00   \n",
       "...     ...  ...   ...                  ...   \n",
       "42995  2022  수원시  팔달구청  2022-03-29 10:33:00   \n",
       "93495  2022  수원시  권선구청  2022-06-25 16:57:00   \n",
       "58348  2022  수원시  장안구청  2022-04-24 16:16:00   \n",
       "41451  2022  수원시  팔달구청  2022-03-25 15:07:00   \n",
       "30712  2022  수원시  권선구청  2022-03-07 09:01:00   \n",
       "\n",
       "                                               단속장소   단속방법     데이터기준일자  \\\n",
       "75821                               고등동 고등동 고등로33번길    주행형  2023-12-01   \n",
       "48075                                      호매실동 금호로    주행형  2023-12-01   \n",
       "85872                                  매탄동 매탄로126번길    주행형  2023-12-01   \n",
       "58804  경기도수원시권선구권선동 수원시 권선구 경수대로 371-1구두수선대 2019 13     보행  2023-12-01   \n",
       "40417                                  고색동 산업로155번길    주행형  2023-12-01   \n",
       "...                                             ...    ...         ...   \n",
       "42995          경기도수원시장안구정자동 수원시 팔달구 효원로 292번길 33-22     보행  2023-12-01   \n",
       "93495                                       당수동 742  국민신문고  2023-12-01   \n",
       "58348                                  정자동 장안로104번길    주행형  2023-12-01   \n",
       "41451                경기도수원시팔달구화서동 수원시 팔달구 매산로2가 3-5     보행  2023-12-01   \n",
       "30712                                        탑동 상탑로    주행형  2023-12-01   \n",
       "\n",
       "       단속일시_월  단속일시_연  단속일시_일    단속일시_요일  단속일시_시 단속일시_isdaytime 단속일시_season  \\\n",
       "75821       5    2022      25  Wednesday      14      afternoon      spring   \n",
       "48075       4    2022       7   Thursday       8        morning      spring   \n",
       "85872       6    2022      13     Monday       8        morning      summer   \n",
       "58804       4    2022      25     Monday      11        morning      spring   \n",
       "40417       3    2022      24   Thursday      10        morning      spring   \n",
       "...       ...     ...     ...        ...     ...            ...         ...   \n",
       "42995       3    2022      29    Tuesday      10        morning      spring   \n",
       "93495       6    2022      25   Saturday      16      afternoon      summer   \n",
       "58348       4    2022      24     Sunday      16      afternoon      spring   \n",
       "41451       3    2022      25     Friday      15      afternoon      spring   \n",
       "30712       3    2022       7     Monday       9        morning      spring   \n",
       "\n",
       "        latitude   longitude  \n",
       "75821  37.274043  127.001757  \n",
       "48075        NaN         NaN  \n",
       "85872  37.261470  127.046333  \n",
       "58804  37.259704  127.023286  \n",
       "40417  37.245967  126.985438  \n",
       "...          ...         ...  \n",
       "42995        NaN         NaN  \n",
       "93495  37.292930  126.939038  \n",
       "58348  37.293701  127.002320  \n",
       "41451        NaN         NaN  \n",
       "30712  37.271926  126.973332  \n",
       "\n",
       "[100 rows x 16 columns]"
      ]
     },
     "execution_count": 12,
     "metadata": {},
     "output_type": "execute_result"
    }
   ],
   "source": [
    "add_to_pos(sample)"
   ]
  },
  {
   "cell_type": "markdown",
   "id": "9ae798b4",
   "metadata": {},
   "source": [
    "### 실제 데이터 주소 -> 위/경도 전환 \n",
    "시간 소요될 수 있음. 요청 당 0.15초 딜레이"
   ]
  },
  {
   "cell_type": "code",
   "execution_count": 15,
   "id": "372e8e80",
   "metadata": {},
   "outputs": [],
   "source": [
    "partial_data = data3"
   ]
  },
  {
   "cell_type": "code",
   "execution_count": 17,
   "id": "e015dbd9",
   "metadata": {},
   "outputs": [
    {
     "name": "stderr",
     "output_type": "stream",
     "text": [
      "/opt/anaconda3/envs/data_venv/lib/python3.10/site-packages/numpy/_core/fromnumeric.py:57: FutureWarning: 'DataFrame.swapaxes' is deprecated and will be removed in a future version. Please use 'DataFrame.transpose' instead.\n",
      "  return bound(*args, **kwds)\n"
     ]
    },
    {
     "name": "stdout",
     "output_type": "stream",
     "text": [
      "Processing chunk 1/10\n"
     ]
    },
    {
     "name": "stderr",
     "output_type": "stream",
     "text": [
      "  0%|          | 0/10000 [00:00<?, ?it/s]"
     ]
    },
    {
     "name": "stderr",
     "output_type": "stream",
     "text": [
      " 10%|█         | 1000/10000 [04:04<38:09,  3.93it/s] "
     ]
    },
    {
     "name": "stdout",
     "output_type": "stream",
     "text": [
      "1000 rows. 중간 딜레이 5se\n",
      "\n"
     ]
    },
    {
     "name": "stderr",
     "output_type": "stream",
     "text": [
      " 20%|██        | 2000/10000 [08:13<34:03,  3.91it/s]"
     ]
    },
    {
     "name": "stdout",
     "output_type": "stream",
     "text": [
      "2000 rows. 중간 딜레이 5se\n",
      "\n"
     ]
    },
    {
     "name": "stderr",
     "output_type": "stream",
     "text": [
      " 30%|███       | 3000/10000 [12:20<30:44,  3.80it/s]"
     ]
    },
    {
     "name": "stdout",
     "output_type": "stream",
     "text": [
      "3000 rows. 중간 딜레이 5se\n",
      "\n"
     ]
    },
    {
     "name": "stderr",
     "output_type": "stream",
     "text": [
      " 40%|████      | 4000/10000 [16:34<26:53,  3.72it/s]"
     ]
    },
    {
     "name": "stdout",
     "output_type": "stream",
     "text": [
      "4000 rows. 중간 딜레이 5se\n",
      "\n"
     ]
    },
    {
     "name": "stderr",
     "output_type": "stream",
     "text": [
      " 50%|█████     | 5000/10000 [20:46<22:33,  3.70it/s]"
     ]
    },
    {
     "name": "stdout",
     "output_type": "stream",
     "text": [
      "5000 rows. 중간 딜레이 5se\n",
      "\n"
     ]
    },
    {
     "name": "stderr",
     "output_type": "stream",
     "text": [
      " 60%|██████    | 6000/10000 [25:01<17:10,  3.88it/s]"
     ]
    },
    {
     "name": "stdout",
     "output_type": "stream",
     "text": [
      "6000 rows. 중간 딜레이 5se\n",
      "\n"
     ]
    },
    {
     "name": "stderr",
     "output_type": "stream",
     "text": [
      " 70%|███████   | 7000/10000 [29:16<12:53,  3.88it/s]"
     ]
    },
    {
     "name": "stdout",
     "output_type": "stream",
     "text": [
      "7000 rows. 중간 딜레이 5se\n",
      "\n"
     ]
    },
    {
     "name": "stderr",
     "output_type": "stream",
     "text": [
      " 80%|████████  | 8000/10000 [33:26<08:27,  3.94it/s]"
     ]
    },
    {
     "name": "stdout",
     "output_type": "stream",
     "text": [
      "8000 rows. 중간 딜레이 5se\n",
      "\n"
     ]
    },
    {
     "name": "stderr",
     "output_type": "stream",
     "text": [
      " 90%|█████████ | 9000/10000 [37:34<03:46,  4.42it/s]"
     ]
    },
    {
     "name": "stdout",
     "output_type": "stream",
     "text": [
      "9000 rows. 중간 딜레이 5se\n",
      "\n"
     ]
    },
    {
     "name": "stderr",
     "output_type": "stream",
     "text": [
      "100%|██████████| 10000/10000 [41:41<00:00,  4.00it/s]\n"
     ]
    },
    {
     "name": "stdout",
     "output_type": "stream",
     "text": [
      "Processing chunk 2/10\n"
     ]
    },
    {
     "name": "stderr",
     "output_type": "stream",
     "text": [
      " 10%|█         | 1000/10000 [04:13<37:55,  3.95it/s]"
     ]
    },
    {
     "name": "stdout",
     "output_type": "stream",
     "text": [
      "1000 rows. 중간 딜레이 5se\n",
      "\n"
     ]
    },
    {
     "name": "stderr",
     "output_type": "stream",
     "text": [
      " 20%|██        | 2000/10000 [08:27<36:22,  3.67it/s]"
     ]
    },
    {
     "name": "stdout",
     "output_type": "stream",
     "text": [
      "2000 rows. 중간 딜레이 5se\n",
      "\n"
     ]
    },
    {
     "name": "stderr",
     "output_type": "stream",
     "text": [
      " 30%|███       | 3000/10000 [12:41<29:12,  3.99it/s]  "
     ]
    },
    {
     "name": "stdout",
     "output_type": "stream",
     "text": [
      "3000 rows. 중간 딜레이 5se\n",
      "\n"
     ]
    },
    {
     "name": "stderr",
     "output_type": "stream",
     "text": [
      " 40%|████      | 4000/10000 [16:49<25:51,  3.87it/s]"
     ]
    },
    {
     "name": "stdout",
     "output_type": "stream",
     "text": [
      "4000 rows. 중간 딜레이 5se\n",
      "\n"
     ]
    },
    {
     "name": "stderr",
     "output_type": "stream",
     "text": [
      " 50%|█████     | 5000/10000 [20:58<20:34,  4.05it/s]"
     ]
    },
    {
     "name": "stdout",
     "output_type": "stream",
     "text": [
      "5000 rows. 중간 딜레이 5se\n",
      "\n"
     ]
    },
    {
     "name": "stderr",
     "output_type": "stream",
     "text": [
      " 60%|██████    | 6000/10000 [25:11<15:56,  4.18it/s]"
     ]
    },
    {
     "name": "stdout",
     "output_type": "stream",
     "text": [
      "6000 rows. 중간 딜레이 5se\n",
      "\n"
     ]
    },
    {
     "name": "stderr",
     "output_type": "stream",
     "text": [
      " 70%|███████   | 7000/10000 [29:28<12:36,  3.97it/s]"
     ]
    },
    {
     "name": "stdout",
     "output_type": "stream",
     "text": [
      "7000 rows. 중간 딜레이 5se\n",
      "\n"
     ]
    },
    {
     "name": "stderr",
     "output_type": "stream",
     "text": [
      " 80%|████████  | 8000/10000 [33:44<07:42,  4.33it/s]"
     ]
    },
    {
     "name": "stdout",
     "output_type": "stream",
     "text": [
      "8000 rows. 중간 딜레이 5se\n",
      "\n"
     ]
    },
    {
     "name": "stderr",
     "output_type": "stream",
     "text": [
      " 90%|█████████ | 9000/10000 [37:59<04:33,  3.66it/s]"
     ]
    },
    {
     "name": "stdout",
     "output_type": "stream",
     "text": [
      "9000 rows. 중간 딜레이 5se\n",
      "\n"
     ]
    },
    {
     "name": "stderr",
     "output_type": "stream",
     "text": [
      "100%|██████████| 10000/10000 [42:13<00:00,  3.95it/s]\n"
     ]
    },
    {
     "name": "stdout",
     "output_type": "stream",
     "text": [
      "Processing chunk 3/10\n"
     ]
    },
    {
     "name": "stderr",
     "output_type": "stream",
     "text": [
      " 10%|█         | 1000/10000 [04:14<39:47,  3.77it/s]"
     ]
    },
    {
     "name": "stdout",
     "output_type": "stream",
     "text": [
      "1000 rows. 중간 딜레이 5se\n",
      "\n"
     ]
    },
    {
     "name": "stderr",
     "output_type": "stream",
     "text": [
      " 20%|██        | 2000/10000 [08:29<35:30,  3.75it/s]"
     ]
    },
    {
     "name": "stdout",
     "output_type": "stream",
     "text": [
      "2000 rows. 중간 딜레이 5se\n",
      "\n"
     ]
    },
    {
     "name": "stderr",
     "output_type": "stream",
     "text": [
      " 30%|███       | 3000/10000 [12:45<29:54,  3.90it/s]"
     ]
    },
    {
     "name": "stdout",
     "output_type": "stream",
     "text": [
      "3000 rows. 중간 딜레이 5se\n",
      "\n"
     ]
    },
    {
     "name": "stderr",
     "output_type": "stream",
     "text": [
      " 40%|████      | 4000/10000 [16:58<26:52,  3.72it/s]"
     ]
    },
    {
     "name": "stdout",
     "output_type": "stream",
     "text": [
      "4000 rows. 중간 딜레이 5se\n",
      "\n"
     ]
    },
    {
     "name": "stderr",
     "output_type": "stream",
     "text": [
      " 50%|█████     | 5000/10000 [21:12<18:50,  4.42it/s]"
     ]
    },
    {
     "name": "stdout",
     "output_type": "stream",
     "text": [
      "5000 rows. 중간 딜레이 5se\n",
      "\n"
     ]
    },
    {
     "name": "stderr",
     "output_type": "stream",
     "text": [
      " 60%|██████    | 6000/10000 [25:28<16:39,  4.00it/s]"
     ]
    },
    {
     "name": "stdout",
     "output_type": "stream",
     "text": [
      "6000 rows. 중간 딜레이 5se\n",
      "\n"
     ]
    },
    {
     "name": "stderr",
     "output_type": "stream",
     "text": [
      " 70%|███████   | 7000/10000 [29:46<12:47,  3.91it/s]"
     ]
    },
    {
     "name": "stdout",
     "output_type": "stream",
     "text": [
      "7000 rows. 중간 딜레이 5se\n",
      "\n"
     ]
    },
    {
     "name": "stderr",
     "output_type": "stream",
     "text": [
      " 80%|████████  | 8000/10000 [33:59<08:20,  4.00it/s]"
     ]
    },
    {
     "name": "stdout",
     "output_type": "stream",
     "text": [
      "8000 rows. 중간 딜레이 5se\n",
      "\n"
     ]
    },
    {
     "name": "stderr",
     "output_type": "stream",
     "text": [
      " 90%|█████████ | 9000/10000 [38:14<04:04,  4.09it/s]"
     ]
    },
    {
     "name": "stdout",
     "output_type": "stream",
     "text": [
      "9000 rows. 중간 딜레이 5se\n",
      "\n"
     ]
    },
    {
     "name": "stderr",
     "output_type": "stream",
     "text": [
      "100%|██████████| 10000/10000 [42:28<00:00,  3.92it/s]\n"
     ]
    },
    {
     "name": "stdout",
     "output_type": "stream",
     "text": [
      "Processing chunk 4/10\n"
     ]
    },
    {
     "name": "stderr",
     "output_type": "stream",
     "text": [
      " 10%|█         | 1000/10000 [04:14<38:24,  3.91it/s]"
     ]
    },
    {
     "name": "stdout",
     "output_type": "stream",
     "text": [
      "1000 rows. 중간 딜레이 5se\n",
      "\n"
     ]
    },
    {
     "name": "stderr",
     "output_type": "stream",
     "text": [
      " 20%|██        | 2000/10000 [08:28<33:24,  3.99it/s]  "
     ]
    },
    {
     "name": "stdout",
     "output_type": "stream",
     "text": [
      "2000 rows. 중간 딜레이 5se\n",
      "\n"
     ]
    },
    {
     "name": "stderr",
     "output_type": "stream",
     "text": [
      " 30%|███       | 3000/10000 [12:42<29:59,  3.89it/s]"
     ]
    },
    {
     "name": "stdout",
     "output_type": "stream",
     "text": [
      "3000 rows. 중간 딜레이 5se\n",
      "\n"
     ]
    },
    {
     "name": "stderr",
     "output_type": "stream",
     "text": [
      " 40%|████      | 4000/10000 [16:57<25:53,  3.86it/s]"
     ]
    },
    {
     "name": "stdout",
     "output_type": "stream",
     "text": [
      "4000 rows. 중간 딜레이 5se\n",
      "\n"
     ]
    },
    {
     "name": "stderr",
     "output_type": "stream",
     "text": [
      " 50%|█████     | 5000/10000 [21:10<19:32,  4.26it/s]"
     ]
    },
    {
     "name": "stdout",
     "output_type": "stream",
     "text": [
      "5000 rows. 중간 딜레이 5se\n",
      "\n"
     ]
    },
    {
     "name": "stderr",
     "output_type": "stream",
     "text": [
      " 60%|██████    | 6000/10000 [25:24<15:50,  4.21it/s]"
     ]
    },
    {
     "name": "stdout",
     "output_type": "stream",
     "text": [
      "6000 rows. 중간 딜레이 5se\n",
      "\n"
     ]
    },
    {
     "name": "stderr",
     "output_type": "stream",
     "text": [
      " 70%|███████   | 7000/10000 [29:38<12:37,  3.96it/s]"
     ]
    },
    {
     "name": "stdout",
     "output_type": "stream",
     "text": [
      "7000 rows. 중간 딜레이 5se\n",
      "\n"
     ]
    },
    {
     "name": "stderr",
     "output_type": "stream",
     "text": [
      " 80%|████████  | 8000/10000 [33:54<08:35,  3.88it/s]"
     ]
    },
    {
     "name": "stdout",
     "output_type": "stream",
     "text": [
      "8000 rows. 중간 딜레이 5se\n",
      "\n"
     ]
    },
    {
     "name": "stderr",
     "output_type": "stream",
     "text": [
      " 90%|█████████ | 9000/10000 [38:08<04:15,  3.91it/s]"
     ]
    },
    {
     "name": "stdout",
     "output_type": "stream",
     "text": [
      "9000 rows. 중간 딜레이 5se\n",
      "\n"
     ]
    },
    {
     "name": "stderr",
     "output_type": "stream",
     "text": [
      "100%|██████████| 10000/10000 [42:21<00:00,  3.94it/s]\n"
     ]
    },
    {
     "name": "stdout",
     "output_type": "stream",
     "text": [
      "Processing chunk 5/10\n"
     ]
    },
    {
     "name": "stderr",
     "output_type": "stream",
     "text": [
      " 10%|█         | 1000/10000 [04:14<38:29,  3.90it/s]"
     ]
    },
    {
     "name": "stdout",
     "output_type": "stream",
     "text": [
      "1000 rows. 중간 딜레이 5se\n",
      "\n"
     ]
    },
    {
     "name": "stderr",
     "output_type": "stream",
     "text": [
      " 20%|██        | 2000/10000 [08:27<30:39,  4.35it/s]"
     ]
    },
    {
     "name": "stdout",
     "output_type": "stream",
     "text": [
      "2000 rows. 중간 딜레이 5se\n",
      "\n"
     ]
    },
    {
     "name": "stderr",
     "output_type": "stream",
     "text": [
      " 30%|███       | 3000/10000 [12:39<29:03,  4.01it/s]"
     ]
    },
    {
     "name": "stdout",
     "output_type": "stream",
     "text": [
      "3000 rows. 중간 딜레이 5se\n",
      "\n"
     ]
    },
    {
     "name": "stderr",
     "output_type": "stream",
     "text": [
      " 40%|████      | 4000/10000 [16:55<26:59,  3.70it/s]"
     ]
    },
    {
     "name": "stdout",
     "output_type": "stream",
     "text": [
      "4000 rows. 중간 딜레이 5se\n",
      "\n"
     ]
    },
    {
     "name": "stderr",
     "output_type": "stream",
     "text": [
      " 50%|█████     | 5000/10000 [21:11<22:15,  3.74it/s]"
     ]
    },
    {
     "name": "stdout",
     "output_type": "stream",
     "text": [
      "5000 rows. 중간 딜레이 5se\n",
      "\n"
     ]
    },
    {
     "name": "stderr",
     "output_type": "stream",
     "text": [
      " 60%|██████    | 6000/10000 [25:25<18:06,  3.68it/s]"
     ]
    },
    {
     "name": "stdout",
     "output_type": "stream",
     "text": [
      "6000 rows. 중간 딜레이 5se\n",
      "\n"
     ]
    },
    {
     "name": "stderr",
     "output_type": "stream",
     "text": [
      " 70%|███████   | 7000/10000 [29:42<13:10,  3.79it/s]"
     ]
    },
    {
     "name": "stdout",
     "output_type": "stream",
     "text": [
      "7000 rows. 중간 딜레이 5se\n",
      "\n"
     ]
    },
    {
     "name": "stderr",
     "output_type": "stream",
     "text": [
      " 80%|████████  | 8000/10000 [33:58<08:52,  3.76it/s]"
     ]
    },
    {
     "name": "stdout",
     "output_type": "stream",
     "text": [
      "8000 rows. 중간 딜레이 5se\n",
      "\n"
     ]
    },
    {
     "name": "stderr",
     "output_type": "stream",
     "text": [
      " 90%|█████████ | 9000/10000 [38:10<03:52,  4.30it/s]"
     ]
    },
    {
     "name": "stdout",
     "output_type": "stream",
     "text": [
      "9000 rows. 중간 딜레이 5se\n",
      "\n"
     ]
    },
    {
     "name": "stderr",
     "output_type": "stream",
     "text": [
      "100%|██████████| 10000/10000 [42:19<00:00,  3.94it/s]\n"
     ]
    },
    {
     "name": "stdout",
     "output_type": "stream",
     "text": [
      "Processing chunk 6/10\n"
     ]
    },
    {
     "name": "stderr",
     "output_type": "stream",
     "text": [
      " 10%|█         | 1000/10000 [04:11<35:13,  4.26it/s]"
     ]
    },
    {
     "name": "stdout",
     "output_type": "stream",
     "text": [
      "1000 rows. 중간 딜레이 5se\n",
      "\n"
     ]
    },
    {
     "name": "stderr",
     "output_type": "stream",
     "text": [
      " 20%|██        | 2000/10000 [08:25<32:00,  4.16it/s]"
     ]
    },
    {
     "name": "stdout",
     "output_type": "stream",
     "text": [
      "2000 rows. 중간 딜레이 5se\n",
      "\n"
     ]
    },
    {
     "name": "stderr",
     "output_type": "stream",
     "text": [
      " 30%|███       | 3000/10000 [12:38<28:55,  4.03it/s]"
     ]
    },
    {
     "name": "stdout",
     "output_type": "stream",
     "text": [
      "3000 rows. 중간 딜레이 5se\n",
      "\n"
     ]
    },
    {
     "name": "stderr",
     "output_type": "stream",
     "text": [
      " 40%|████      | 4000/10000 [16:52<24:54,  4.02it/s]"
     ]
    },
    {
     "name": "stdout",
     "output_type": "stream",
     "text": [
      "4000 rows. 중간 딜레이 5se\n",
      "\n"
     ]
    },
    {
     "name": "stderr",
     "output_type": "stream",
     "text": [
      " 50%|█████     | 5000/10000 [21:07<22:23,  3.72it/s]"
     ]
    },
    {
     "name": "stdout",
     "output_type": "stream",
     "text": [
      "5000 rows. 중간 딜레이 5se\n",
      "\n"
     ]
    },
    {
     "name": "stderr",
     "output_type": "stream",
     "text": [
      " 60%|██████    | 6000/10000 [25:17<17:58,  3.71it/s]"
     ]
    },
    {
     "name": "stdout",
     "output_type": "stream",
     "text": [
      "6000 rows. 중간 딜레이 5se\n",
      "\n"
     ]
    },
    {
     "name": "stderr",
     "output_type": "stream",
     "text": [
      " 70%|███████   | 7000/10000 [29:29<13:22,  3.74it/s]"
     ]
    },
    {
     "name": "stdout",
     "output_type": "stream",
     "text": [
      "7000 rows. 중간 딜레이 5se\n",
      "\n"
     ]
    },
    {
     "name": "stderr",
     "output_type": "stream",
     "text": [
      " 80%|████████  | 8000/10000 [33:42<08:58,  3.72it/s]"
     ]
    },
    {
     "name": "stdout",
     "output_type": "stream",
     "text": [
      "8000 rows. 중간 딜레이 5se\n",
      "\n"
     ]
    },
    {
     "name": "stderr",
     "output_type": "stream",
     "text": [
      " 90%|█████████ | 9000/10000 [37:57<04:25,  3.77it/s]"
     ]
    },
    {
     "name": "stdout",
     "output_type": "stream",
     "text": [
      "9000 rows. 중간 딜레이 5se\n",
      "\n"
     ]
    },
    {
     "name": "stderr",
     "output_type": "stream",
     "text": [
      "100%|██████████| 10000/10000 [42:09<00:00,  3.95it/s]\n"
     ]
    },
    {
     "name": "stdout",
     "output_type": "stream",
     "text": [
      "Processing chunk 7/10\n"
     ]
    },
    {
     "name": "stderr",
     "output_type": "stream",
     "text": [
      " 10%|█         | 1000/10000 [04:09<38:13,  3.92it/s]"
     ]
    },
    {
     "name": "stdout",
     "output_type": "stream",
     "text": [
      "1000 rows. 중간 딜레이 5se\n",
      "\n"
     ]
    },
    {
     "name": "stderr",
     "output_type": "stream",
     "text": [
      " 20%|██        | 2000/10000 [08:21<29:37,  4.50it/s]"
     ]
    },
    {
     "name": "stdout",
     "output_type": "stream",
     "text": [
      "2000 rows. 중간 딜레이 5se\n",
      "\n"
     ]
    },
    {
     "name": "stderr",
     "output_type": "stream",
     "text": [
      " 30%|███       | 3000/10000 [12:32<34:30,  3.38it/s]"
     ]
    },
    {
     "name": "stdout",
     "output_type": "stream",
     "text": [
      "3000 rows. 중간 딜레이 5se\n",
      "\n"
     ]
    },
    {
     "name": "stderr",
     "output_type": "stream",
     "text": [
      " 40%|████      | 4000/10000 [16:47<25:12,  3.97it/s]"
     ]
    },
    {
     "name": "stdout",
     "output_type": "stream",
     "text": [
      "4000 rows. 중간 딜레이 5se\n",
      "\n"
     ]
    },
    {
     "name": "stderr",
     "output_type": "stream",
     "text": [
      " 50%|█████     | 5000/10000 [21:02<20:59,  3.97it/s]"
     ]
    },
    {
     "name": "stdout",
     "output_type": "stream",
     "text": [
      "5000 rows. 중간 딜레이 5se\n",
      "\n"
     ]
    },
    {
     "name": "stderr",
     "output_type": "stream",
     "text": [
      " 60%|██████    | 6000/10000 [25:12<15:06,  4.41it/s]"
     ]
    },
    {
     "name": "stdout",
     "output_type": "stream",
     "text": [
      "6000 rows. 중간 딜레이 5se\n",
      "\n"
     ]
    },
    {
     "name": "stderr",
     "output_type": "stream",
     "text": [
      " 70%|███████   | 7000/10000 [29:19<13:22,  3.74it/s]"
     ]
    },
    {
     "name": "stdout",
     "output_type": "stream",
     "text": [
      "7000 rows. 중간 딜레이 5se\n",
      "\n"
     ]
    },
    {
     "name": "stderr",
     "output_type": "stream",
     "text": [
      " 80%|████████  | 8000/10000 [33:35<08:13,  4.05it/s]"
     ]
    },
    {
     "name": "stdout",
     "output_type": "stream",
     "text": [
      "8000 rows. 중간 딜레이 5se\n",
      "\n"
     ]
    },
    {
     "name": "stderr",
     "output_type": "stream",
     "text": [
      " 90%|█████████ | 9000/10000 [37:51<04:20,  3.84it/s]"
     ]
    },
    {
     "name": "stdout",
     "output_type": "stream",
     "text": [
      "9000 rows. 중간 딜레이 5se\n",
      "\n"
     ]
    },
    {
     "name": "stderr",
     "output_type": "stream",
     "text": [
      "100%|██████████| 10000/10000 [42:05<00:00,  3.96it/s]\n"
     ]
    },
    {
     "name": "stdout",
     "output_type": "stream",
     "text": [
      "Processing chunk 8/10\n"
     ]
    },
    {
     "name": "stderr",
     "output_type": "stream",
     "text": [
      " 10%|█         | 1000/10000 [04:15<39:42,  3.78it/s]"
     ]
    },
    {
     "name": "stdout",
     "output_type": "stream",
     "text": [
      "1000 rows. 중간 딜레이 5se\n",
      "\n"
     ]
    },
    {
     "name": "stderr",
     "output_type": "stream",
     "text": [
      " 20%|██        | 2000/10000 [08:32<33:59,  3.92it/s]"
     ]
    },
    {
     "name": "stdout",
     "output_type": "stream",
     "text": [
      "2000 rows. 중간 딜레이 5se\n",
      "\n"
     ]
    },
    {
     "name": "stderr",
     "output_type": "stream",
     "text": [
      " 30%|███       | 3000/10000 [12:48<29:54,  3.90it/s]"
     ]
    },
    {
     "name": "stdout",
     "output_type": "stream",
     "text": [
      "3000 rows. 중간 딜레이 5se\n",
      "\n"
     ]
    },
    {
     "name": "stderr",
     "output_type": "stream",
     "text": [
      " 40%|████      | 4000/10000 [17:04<25:09,  3.97it/s]"
     ]
    },
    {
     "name": "stdout",
     "output_type": "stream",
     "text": [
      "4000 rows. 중간 딜레이 5se\n",
      "\n"
     ]
    },
    {
     "name": "stderr",
     "output_type": "stream",
     "text": [
      " 50%|█████     | 5000/10000 [21:21<22:25,  3.72it/s]"
     ]
    },
    {
     "name": "stdout",
     "output_type": "stream",
     "text": [
      "5000 rows. 중간 딜레이 5se\n",
      "\n"
     ]
    },
    {
     "name": "stderr",
     "output_type": "stream",
     "text": [
      " 60%|██████    | 6000/10000 [25:37<17:58,  3.71it/s]"
     ]
    },
    {
     "name": "stdout",
     "output_type": "stream",
     "text": [
      "6000 rows. 중간 딜레이 5se\n",
      "\n"
     ]
    },
    {
     "name": "stderr",
     "output_type": "stream",
     "text": [
      " 70%|███████   | 7000/10000 [29:52<13:32,  3.69it/s]"
     ]
    },
    {
     "name": "stdout",
     "output_type": "stream",
     "text": [
      "7000 rows. 중간 딜레이 5se\n",
      "\n"
     ]
    },
    {
     "name": "stderr",
     "output_type": "stream",
     "text": [
      " 80%|████████  | 8000/10000 [34:09<08:57,  3.72it/s]"
     ]
    },
    {
     "name": "stdout",
     "output_type": "stream",
     "text": [
      "8000 rows. 중간 딜레이 5se\n",
      "\n"
     ]
    },
    {
     "name": "stderr",
     "output_type": "stream",
     "text": [
      " 90%|█████████ | 9000/10000 [38:39<04:07,  4.04it/s]"
     ]
    },
    {
     "name": "stdout",
     "output_type": "stream",
     "text": [
      "9000 rows. 중간 딜레이 5se\n",
      "\n"
     ]
    },
    {
     "name": "stderr",
     "output_type": "stream",
     "text": [
      "100%|██████████| 10000/10000 [42:39<00:00,  3.91it/s]\n"
     ]
    },
    {
     "name": "stdout",
     "output_type": "stream",
     "text": [
      "Processing chunk 9/10\n"
     ]
    },
    {
     "name": "stderr",
     "output_type": "stream",
     "text": [
      " 10%|█         | 1000/10000 [04:13<38:17,  3.92it/s] "
     ]
    },
    {
     "name": "stdout",
     "output_type": "stream",
     "text": [
      "1000 rows. 중간 딜레이 5se\n",
      "\n"
     ]
    },
    {
     "name": "stderr",
     "output_type": "stream",
     "text": [
      " 20%|██        | 2000/10000 [08:27<32:46,  4.07it/s]"
     ]
    },
    {
     "name": "stdout",
     "output_type": "stream",
     "text": [
      "2000 rows. 중간 딜레이 5se\n",
      "\n"
     ]
    },
    {
     "name": "stderr",
     "output_type": "stream",
     "text": [
      " 30%|███       | 3000/10000 [12:43<29:48,  3.91it/s]"
     ]
    },
    {
     "name": "stdout",
     "output_type": "stream",
     "text": [
      "3000 rows. 중간 딜레이 5se\n",
      "\n"
     ]
    },
    {
     "name": "stderr",
     "output_type": "stream",
     "text": [
      " 40%|████      | 4000/10000 [17:05<26:28,  3.78it/s]"
     ]
    },
    {
     "name": "stdout",
     "output_type": "stream",
     "text": [
      "4000 rows. 중간 딜레이 5se\n",
      "\n"
     ]
    },
    {
     "name": "stderr",
     "output_type": "stream",
     "text": [
      " 50%|█████     | 5000/10000 [21:27<21:22,  3.90it/s]"
     ]
    },
    {
     "name": "stdout",
     "output_type": "stream",
     "text": [
      "5000 rows. 중간 딜레이 5se\n",
      "\n"
     ]
    },
    {
     "name": "stderr",
     "output_type": "stream",
     "text": [
      " 60%|██████    | 6000/10000 [25:54<17:41,  3.77it/s]"
     ]
    },
    {
     "name": "stdout",
     "output_type": "stream",
     "text": [
      "6000 rows. 중간 딜레이 5se\n",
      "\n"
     ]
    },
    {
     "name": "stderr",
     "output_type": "stream",
     "text": [
      " 70%|███████   | 7000/10000 [30:17<12:50,  3.90it/s]"
     ]
    },
    {
     "name": "stdout",
     "output_type": "stream",
     "text": [
      "7000 rows. 중간 딜레이 5se\n",
      "\n"
     ]
    },
    {
     "name": "stderr",
     "output_type": "stream",
     "text": [
      " 80%|████████  | 8000/10000 [34:40<09:03,  3.68it/s]"
     ]
    },
    {
     "name": "stdout",
     "output_type": "stream",
     "text": [
      "8000 rows. 중간 딜레이 5se\n",
      "\n"
     ]
    },
    {
     "name": "stderr",
     "output_type": "stream",
     "text": [
      " 90%|█████████ | 9000/10000 [39:03<04:13,  3.94it/s]"
     ]
    },
    {
     "name": "stdout",
     "output_type": "stream",
     "text": [
      "9000 rows. 중간 딜레이 5se\n",
      "\n"
     ]
    },
    {
     "name": "stderr",
     "output_type": "stream",
     "text": [
      "100%|██████████| 10000/10000 [43:25<00:00,  3.84it/s]\n"
     ]
    },
    {
     "name": "stdout",
     "output_type": "stream",
     "text": [
      "Processing chunk 10/10\n"
     ]
    },
    {
     "name": "stderr",
     "output_type": "stream",
     "text": [
      " 10%|█         | 1000/10000 [04:21<39:55,  3.76it/s]"
     ]
    },
    {
     "name": "stdout",
     "output_type": "stream",
     "text": [
      "1000 rows. 중간 딜레이 5se\n",
      "\n"
     ]
    },
    {
     "name": "stderr",
     "output_type": "stream",
     "text": [
      " 20%|██        | 2000/10000 [08:43<35:44,  3.73it/s]"
     ]
    },
    {
     "name": "stdout",
     "output_type": "stream",
     "text": [
      "2000 rows. 중간 딜레이 5se\n",
      "\n"
     ]
    },
    {
     "name": "stderr",
     "output_type": "stream",
     "text": [
      " 30%|███       | 3000/10000 [13:00<30:38,  3.81it/s]"
     ]
    },
    {
     "name": "stdout",
     "output_type": "stream",
     "text": [
      "3000 rows. 중간 딜레이 5se\n",
      "\n"
     ]
    },
    {
     "name": "stderr",
     "output_type": "stream",
     "text": [
      " 40%|████      | 4000/10000 [17:09<26:38,  3.75it/s]"
     ]
    },
    {
     "name": "stdout",
     "output_type": "stream",
     "text": [
      "4000 rows. 중간 딜레이 5se\n",
      "\n"
     ]
    },
    {
     "name": "stderr",
     "output_type": "stream",
     "text": [
      " 50%|█████     | 5000/10000 [21:33<20:38,  4.04it/s]  "
     ]
    },
    {
     "name": "stdout",
     "output_type": "stream",
     "text": [
      "5000 rows. 중간 딜레이 5se\n",
      "\n"
     ]
    },
    {
     "name": "stderr",
     "output_type": "stream",
     "text": [
      " 60%|██████    | 6000/10000 [25:36<15:30,  4.30it/s]"
     ]
    },
    {
     "name": "stdout",
     "output_type": "stream",
     "text": [
      "6000 rows. 중간 딜레이 5se\n",
      "\n"
     ]
    },
    {
     "name": "stderr",
     "output_type": "stream",
     "text": [
      " 70%|███████   | 7000/10000 [29:41<11:29,  4.35it/s]"
     ]
    },
    {
     "name": "stdout",
     "output_type": "stream",
     "text": [
      "7000 rows. 중간 딜레이 5se\n",
      "\n"
     ]
    },
    {
     "name": "stderr",
     "output_type": "stream",
     "text": [
      " 80%|████████  | 8000/10000 [33:48<08:07,  4.10it/s]"
     ]
    },
    {
     "name": "stdout",
     "output_type": "stream",
     "text": [
      "8000 rows. 중간 딜레이 5se\n",
      "\n"
     ]
    },
    {
     "name": "stderr",
     "output_type": "stream",
     "text": [
      " 90%|█████████ | 9000/10000 [37:55<03:56,  4.22it/s]"
     ]
    },
    {
     "name": "stdout",
     "output_type": "stream",
     "text": [
      "9000 rows. 중간 딜레이 5se\n",
      "\n"
     ]
    },
    {
     "name": "stderr",
     "output_type": "stream",
     "text": [
      "100%|██████████| 10000/10000 [42:02<00:00,  3.96it/s]\n"
     ]
    }
   ],
   "source": [
    "chunks = np.array_split(partial_data, 10)\n",
    "\n",
    "processed_chunks = []\n",
    "\n",
    "for i, chunk in enumerate(chunks):\n",
    "    print(f\"Processing chunk {i+1}/10\")\n",
    "    result = add_to_pos(chunk)\n",
    "\n",
    "    result.to_csv(f'processed_chunk_data3 {i+1}.csv', index=False)\n",
    "    processed_chunks.append(result)"
   ]
  },
  {
   "cell_type": "code",
   "execution_count": 18,
   "id": "8b32ca64",
   "metadata": {},
   "outputs": [],
   "source": [
    "final_data = pd.concat(processed_chunks, ignore_index=True)\n",
    "final_data.to_csv('data3_processed_data.csv', index=False)"
   ]
  }
 ],
 "metadata": {
  "kernelspec": {
   "display_name": "data_venv",
   "language": "python",
   "name": "python3"
  },
  "language_info": {
   "codemirror_mode": {
    "name": "ipython",
    "version": 3
   },
   "file_extension": ".py",
   "mimetype": "text/x-python",
   "name": "python",
   "nbconvert_exporter": "python",
   "pygments_lexer": "ipython3",
   "version": "3.10.18"
  }
 },
 "nbformat": 4,
 "nbformat_minor": 5
}
