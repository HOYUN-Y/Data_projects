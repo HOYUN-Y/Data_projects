{
 "cells": [
  {
   "cell_type": "markdown",
   "id": "abe8f97c",
   "metadata": {},
   "source": [
    "# 불법주정차 데이터 위도/경도 수집 (Kakao Api)\n",
    "- https://developers.kakao.com\n",
    "- 카카오맵 api 허용 설정 필수"
   ]
  },
  {
   "cell_type": "markdown",
   "id": "b5ba362e",
   "metadata": {},
   "source": [
    "### Present working directory"
   ]
  },
  {
   "cell_type": "code",
   "execution_count": null,
   "id": "45c5e0a4",
   "metadata": {},
   "outputs": [
    {
     "name": "stdout",
     "output_type": "stream",
     "text": [
      "/Users/hoyun/Documents/GitHub/Data_projects/dacon_sri_suwon_data_analysis\n"
     ]
    }
   ],
   "source": [
    "!pwd #Linux"
   ]
  },
  {
   "cell_type": "code",
   "execution_count": 22,
   "id": "c3470a61",
   "metadata": {},
   "outputs": [],
   "source": [
    "!cd #windows"
   ]
  },
  {
   "cell_type": "markdown",
   "id": "e537e1ff",
   "metadata": {},
   "source": [
    "### 패키지 설치"
   ]
  },
  {
   "cell_type": "code",
   "execution_count": 2,
   "id": "33962f8e",
   "metadata": {},
   "outputs": [
    {
     "name": "stdout",
     "output_type": "stream",
     "text": [
      "Requirement already satisfied: pandas in /opt/anaconda3/envs/data_venv/lib/python3.10/site-packages (2.3.0)\n",
      "Requirement already satisfied: numpy in /opt/anaconda3/envs/data_venv/lib/python3.10/site-packages (2.2.6)\n",
      "Requirement already satisfied: tqdm in /opt/anaconda3/envs/data_venv/lib/python3.10/site-packages (4.67.1)\n",
      "Requirement already satisfied: requests in /opt/anaconda3/envs/data_venv/lib/python3.10/site-packages (2.32.4)\n",
      "Requirement already satisfied: python-dateutil>=2.8.2 in /opt/anaconda3/envs/data_venv/lib/python3.10/site-packages (from pandas) (2.9.0.post0)\n",
      "Requirement already satisfied: pytz>=2020.1 in /opt/anaconda3/envs/data_venv/lib/python3.10/site-packages (from pandas) (2025.2)\n",
      "Requirement already satisfied: tzdata>=2022.7 in /opt/anaconda3/envs/data_venv/lib/python3.10/site-packages (from pandas) (2025.2)\n",
      "Requirement already satisfied: charset_normalizer<4,>=2 in /opt/anaconda3/envs/data_venv/lib/python3.10/site-packages (from requests) (3.4.2)\n",
      "Requirement already satisfied: idna<4,>=2.5 in /opt/anaconda3/envs/data_venv/lib/python3.10/site-packages (from requests) (3.10)\n",
      "Requirement already satisfied: urllib3<3,>=1.21.1 in /opt/anaconda3/envs/data_venv/lib/python3.10/site-packages (from requests) (2.5.0)\n",
      "Requirement already satisfied: certifi>=2017.4.17 in /opt/anaconda3/envs/data_venv/lib/python3.10/site-packages (from requests) (2025.6.15)\n",
      "Requirement already satisfied: six>=1.5 in /opt/anaconda3/envs/data_venv/lib/python3.10/site-packages (from python-dateutil>=2.8.2->pandas) (1.17.0)\n"
     ]
    }
   ],
   "source": [
    "!pip install pandas numpy tqdm requests"
   ]
  },
  {
   "cell_type": "markdown",
   "id": "35302dbb",
   "metadata": {},
   "source": [
    "### 패키지 선언"
   ]
  },
  {
   "cell_type": "code",
   "execution_count": 1,
   "id": "8485f007",
   "metadata": {},
   "outputs": [],
   "source": [
    "import pandas as pd\n",
    "import numpy as np\n",
    "from tqdm import tqdm\n",
    "import time\n",
    "import json\n",
    "import requests"
   ]
  },
  {
   "cell_type": "code",
   "execution_count": 2,
   "id": "00d3f058",
   "metadata": {},
   "outputs": [],
   "source": [
    "import os\n",
    "from dotenv import load_dotenv\n",
    "\n",
    "load_dotenv()\n",
    "KAKAO_API_KEY = os.getenv(\"KAKAO_API_KEY\")\n",
    "api_key = KAKAO_API_KEY"
   ]
  },
  {
   "cell_type": "markdown",
   "id": "f7651f77",
   "metadata": {},
   "source": [
    "### 카카오 API키 및 API 동작확인"
   ]
  },
  {
   "cell_type": "code",
   "execution_count": 3,
   "id": "1ebf7e74",
   "metadata": {},
   "outputs": [
    {
     "data": {
      "text/plain": [
       "{'documents': [{'address': {'address_name': '서울 송파구 장지동 878',\n",
       "    'b_code': '1171010900',\n",
       "    'h_code': '1171064700',\n",
       "    'main_address_no': '878',\n",
       "    'mountain_yn': 'N',\n",
       "    'region_1depth_name': '서울',\n",
       "    'region_2depth_name': '송파구',\n",
       "    'region_3depth_h_name': '위례동',\n",
       "    'region_3depth_name': '장지동',\n",
       "    'sub_address_no': '',\n",
       "    'x': '127.14004016241',\n",
       "    'y': '37.4804774688545'},\n",
       "   'address_name': '서울 송파구 위례광장로 185',\n",
       "   'address_type': 'ROAD_ADDR',\n",
       "   'road_address': {'address_name': '서울 송파구 위례광장로 185',\n",
       "    'building_name': '위례신도시 송파푸르지오',\n",
       "    'main_building_no': '185',\n",
       "    'region_1depth_name': '서울',\n",
       "    'region_2depth_name': '송파구',\n",
       "    'region_3depth_name': '장지동',\n",
       "    'road_name': '위례광장로',\n",
       "    'sub_building_no': '',\n",
       "    'underground_yn': 'N',\n",
       "    'x': '127.14004016241',\n",
       "    'y': '37.4804774688545',\n",
       "    'zone_no': '05848'},\n",
       "   'x': '127.14004016241',\n",
       "   'y': '37.4804774688545'}],\n",
       " 'meta': {'is_end': True, 'pageable_count': 1, 'total_count': 1}}"
      ]
     },
     "metadata": {},
     "output_type": "display_data"
    }
   ],
   "source": [
    "addr = '서울시 송파구 위례광장로 185'\n",
    "url = 'https://dapi.kakao.com/v2/local/search/address.json?query={address}'.format(address=addr)\n",
    "headers = {\n",
    "    \"Authorization\": f\"KakaoAK {api_key}\"\n",
    "}\n",
    "params = {\"query\": addr}\n",
    "\n",
    "result = json.loads(str(requests.get(url, headers=headers).text))\n",
    "display(result)"
   ]
  },
  {
   "cell_type": "markdown",
   "id": "387eeca9",
   "metadata": {},
   "source": [
    "### 데이터 불러오기"
   ]
  },
  {
   "cell_type": "code",
   "execution_count": 4,
   "id": "4ca617a3",
   "metadata": {},
   "outputs": [],
   "source": [
    "#10만개 단위(약 40만개)\n",
    "data1 = pd.read_csv('parking_notcctv_1.csv')\n",
    "data2 = pd.read_csv('parking_notcctv_2.csv')\n",
    "data3 = pd.read_csv('parking_notcctv_3.csv')\n",
    "data4 = pd.read_csv('parking_notcctv_4.csv')\n",
    "data5 = pd.read_csv('parking_notcctv_5.csv')"
   ]
  },
  {
   "cell_type": "code",
   "execution_count": 5,
   "id": "541d5102",
   "metadata": {},
   "outputs": [],
   "source": [
    "data4_1 = data4[:50000]\n",
    "data4_2 = data4[50000:]"
   ]
  },
  {
   "cell_type": "code",
   "execution_count": 6,
   "id": "866455d9",
   "metadata": {},
   "outputs": [
    {
     "data": {
      "text/plain": [
       "(50000, 16)"
      ]
     },
     "metadata": {},
     "output_type": "display_data"
    },
    {
     "data": {
      "text/plain": [
       "(50000, 16)"
      ]
     },
     "metadata": {},
     "output_type": "display_data"
    }
   ],
   "source": [
    "display(data4_1.shape)\n",
    "display(data4_2.shape)"
   ]
  },
  {
   "cell_type": "markdown",
   "id": "16c5a387",
   "metadata": {},
   "source": [
    "### 데이터 수집 및 적용 함수"
   ]
  },
  {
   "cell_type": "code",
   "execution_count": 7,
   "id": "69082c67",
   "metadata": {},
   "outputs": [],
   "source": [
    "def get_lat_lng(addr):\n",
    "    try:\n",
    "        headers = {\n",
    "        \"Authorization\": f\"KakaoAK {api_key}\"\n",
    "        }\n",
    "        params = {\"query\": addr}\n",
    "        url = \"https://dapi.kakao.com/v2/local/search/address.json\"\n",
    "        \n",
    "        response = requests.get(url, headers=headers, params=params)\n",
    "        time.sleep(0.15)\n",
    "        if response.status_code == 200:\n",
    "            documents = response.json().get(\"documents\")\n",
    "            if documents:\n",
    "                return float(documents[0][\"y\"]), float(documents[0][\"x\"])  # 위도, 경도\n",
    "        return None, None\n",
    "    \n",
    "    except Exception as e:\n",
    "        print(f'get_lat_lng 함수 실행 중.. 에러 : {e}')\n",
    "        return None, None\n",
    "\n",
    "\n",
    "def add_to_pos(data, api_key, chunk_index=None):\n",
    "    tqdm.pandas()\n",
    "\n",
    "    latitudes = []\n",
    "    longitudes = []\n",
    "\n",
    "    for i,(_, row) in enumerate(tqdm(data.iterrows(), total=len(data))):\n",
    "        try:\n",
    "            if i>0 and i%1000 == 0:\n",
    "                print(f'{i} rows. 중간 딜레이 5se\\n')\n",
    "                time.sleep(5)\n",
    "        \n",
    "            lat,lng = get_lat_lng(row['단속장소'])\n",
    "            latitudes.append(lat)\n",
    "            longitudes.append(lng)\n",
    "\n",
    "            \n",
    "        except Exception as e:\n",
    "            print(f\"add_to_pos 함수 실행 중.. {i}번째 줄 에러=>{e}\")\n",
    "            temp_data = data.iloc[:i].copy()\n",
    "            temp_data['latitude'] = latitudes\n",
    "            temp_data['longitude'] = longitudes\n",
    "            backup_file = f\"중단에러_백업파일_{chunk_index}_{i}_줄.csv\"\n",
    "            backup_file.to_csv(backup_file, index=False)\n",
    "            print(\"중단시점까지 저장. 파일명>>>\",backup_file)\n",
    "            raise e\n",
    "        \n",
    "\n",
    "    #display(data.head(10))\n",
    "    data['latitude'] = latitudes\n",
    "    data['longitude'] = longitudes\n",
    "    return data"
   ]
  },
  {
   "cell_type": "markdown",
   "id": "36984cee",
   "metadata": {},
   "source": [
    "### 샘플 테스트"
   ]
  },
  {
   "cell_type": "code",
   "execution_count": 6,
   "id": "848c99db",
   "metadata": {},
   "outputs": [],
   "source": [
    "#샘플 테스트\n",
    "sample=data1.sample(10)\n",
    "partial_data = sample"
   ]
  },
  {
   "cell_type": "code",
   "execution_count": 7,
   "id": "3af1e4b3",
   "metadata": {},
   "outputs": [
    {
     "name": "stderr",
     "output_type": "stream",
     "text": [
      "/opt/anaconda3/envs/data_venv/lib/python3.10/site-packages/numpy/_core/fromnumeric.py:57: FutureWarning: 'DataFrame.swapaxes' is deprecated and will be removed in a future version. Please use 'DataFrame.transpose' instead.\n",
      "  return bound(*args, **kwds)\n"
     ]
    },
    {
     "name": "stdout",
     "output_type": "stream",
     "text": [
      "Processing chunk 1/10\n"
     ]
    },
    {
     "name": "stderr",
     "output_type": "stream",
     "text": [
      "100%|██████████| 1/1 [00:00<00:00,  4.70it/s]\n"
     ]
    },
    {
     "name": "stdout",
     "output_type": "stream",
     "text": [
      "Processing chunk 2/10\n"
     ]
    },
    {
     "name": "stderr",
     "output_type": "stream",
     "text": [
      "100%|██████████| 1/1 [00:00<00:00,  5.08it/s]\n"
     ]
    },
    {
     "name": "stdout",
     "output_type": "stream",
     "text": [
      "Processing chunk 3/10\n"
     ]
    },
    {
     "name": "stderr",
     "output_type": "stream",
     "text": [
      "100%|██████████| 1/1 [00:00<00:00,  4.92it/s]\n"
     ]
    },
    {
     "name": "stdout",
     "output_type": "stream",
     "text": [
      "Processing chunk 4/10\n"
     ]
    },
    {
     "name": "stderr",
     "output_type": "stream",
     "text": [
      "100%|██████████| 1/1 [00:00<00:00,  5.01it/s]\n"
     ]
    },
    {
     "name": "stdout",
     "output_type": "stream",
     "text": [
      "Processing chunk 5/10\n"
     ]
    },
    {
     "name": "stderr",
     "output_type": "stream",
     "text": [
      "100%|██████████| 1/1 [00:00<00:00,  4.74it/s]\n"
     ]
    },
    {
     "name": "stdout",
     "output_type": "stream",
     "text": [
      "Processing chunk 6/10\n"
     ]
    },
    {
     "name": "stderr",
     "output_type": "stream",
     "text": [
      "100%|██████████| 1/1 [00:00<00:00,  4.80it/s]\n"
     ]
    },
    {
     "name": "stdout",
     "output_type": "stream",
     "text": [
      "Processing chunk 7/10\n"
     ]
    },
    {
     "name": "stderr",
     "output_type": "stream",
     "text": [
      "100%|██████████| 1/1 [00:00<00:00,  5.04it/s]\n"
     ]
    },
    {
     "name": "stdout",
     "output_type": "stream",
     "text": [
      "Processing chunk 8/10\n"
     ]
    },
    {
     "name": "stderr",
     "output_type": "stream",
     "text": [
      "100%|██████████| 1/1 [00:00<00:00,  4.90it/s]\n"
     ]
    },
    {
     "name": "stdout",
     "output_type": "stream",
     "text": [
      "Processing chunk 9/10\n"
     ]
    },
    {
     "name": "stderr",
     "output_type": "stream",
     "text": [
      "100%|██████████| 1/1 [00:00<00:00,  5.13it/s]\n"
     ]
    },
    {
     "name": "stdout",
     "output_type": "stream",
     "text": [
      "Processing chunk 10/10\n"
     ]
    },
    {
     "name": "stderr",
     "output_type": "stream",
     "text": [
      "100%|██████████| 1/1 [00:00<00:00,  4.96it/s]"
     ]
    },
    {
     "name": "stdout",
     "output_type": "stream",
     "text": [
      "====================\n",
      "데이터 처리 완료\n",
      "====================\n"
     ]
    },
    {
     "name": "stderr",
     "output_type": "stream",
     "text": [
      "\n"
     ]
    }
   ],
   "source": [
    "chunks = np.array_split(partial_data, 10)\n",
    "processed_chunks = []\n",
    "\n",
    "for i, chunk in enumerate(chunks):\n",
    "    print(f\"Processing chunk {i+1}/10\")\n",
    "\n",
    "    try:\n",
    "        result = add_to_pos(chunk, api_key=api_key, chunk_index=i+1)\n",
    "\n",
    "        result.to_csv(f'./backup_chunk/processed_chunk_data_[sample] {i+1}.csv', index=False)\n",
    "        processed_chunks.append(result)\n",
    "    except Exception as e:\n",
    "        print(f\"Loop 중단된 청크 : {i+1}, 발생 에러 : {e}\")\n",
    "        break\n",
    "print('='*20)\n",
    "print(\"데이터 처리 완료\")\n",
    "print('='*20)\n",
    "    "
   ]
  },
  {
   "cell_type": "markdown",
   "id": "9ae798b4",
   "metadata": {},
   "source": [
    "# 실제 데이터 처리\n",
    "### 실제 데이터 주소 -> 위/경도 전환 \n",
    "#### 시간 소요될 수 있음. \n",
    "- 요청 당 0.15초 딜레이\n",
    "- 1000건 당 5초 간 딜레이\n",
    "\n",
    "#### 유의사항\n",
    "- 10만개 => 1만개씩 끊어 백업파일 저장함.(/backup_chunk)\n",
    "- 에러 발생 시 가장 하단 셀 실행하여 우선 저장\n",
    "- 에러 내용 확인 후 몇번째 chunk에서 발생했는지 기록\n",
    "- 완료 후 전체 데이터 저장 => 'data_processed_data_by_NAME.csv' (NAME 부분 수정)"
   ]
  },
  {
   "cell_type": "code",
   "execution_count": 8,
   "id": "372e8e80",
   "metadata": {},
   "outputs": [],
   "source": [
    "#적용할 데이터 data1, data2, data4 중 선택\n",
    "# 준희 : data1(10만개 레코드), data5(2만여개)\n",
    "# 형철 : data4(10만개 레코드)\n",
    "\n",
    "partial_data = data4_2"
   ]
  },
  {
   "cell_type": "code",
   "execution_count": 9,
   "id": "db65932d",
   "metadata": {},
   "outputs": [
    {
     "data": {
      "text/plain": [
       "(50000, 16)"
      ]
     },
     "execution_count": 9,
     "metadata": {},
     "output_type": "execute_result"
    }
   ],
   "source": [
    "partial_data.shape"
   ]
  },
  {
   "cell_type": "code",
   "execution_count": 11,
   "id": "850c2550",
   "metadata": {},
   "outputs": [
    {
     "name": "stderr",
     "output_type": "stream",
     "text": [
      "/opt/anaconda3/envs/data_venv/lib/python3.10/site-packages/numpy/_core/fromnumeric.py:57: FutureWarning: 'DataFrame.swapaxes' is deprecated and will be removed in a future version. Please use 'DataFrame.transpose' instead.\n",
      "  return bound(*args, **kwds)\n"
     ]
    },
    {
     "name": "stdout",
     "output_type": "stream",
     "text": [
      "Processing chunk 1/10\n"
     ]
    },
    {
     "name": "stderr",
     "output_type": "stream",
     "text": [
      " 20%|██        | 1000/5000 [03:22<13:27,  4.95it/s]"
     ]
    },
    {
     "name": "stdout",
     "output_type": "stream",
     "text": [
      "1000 rows. 중간 딜레이 5se\n",
      "\n"
     ]
    },
    {
     "name": "stderr",
     "output_type": "stream",
     "text": [
      " 40%|████      | 2000/5000 [06:49<10:10,  4.91it/s]  "
     ]
    },
    {
     "name": "stdout",
     "output_type": "stream",
     "text": [
      "2000 rows. 중간 딜레이 5se\n",
      "\n"
     ]
    },
    {
     "name": "stderr",
     "output_type": "stream",
     "text": [
      " 60%|██████    | 3000/5000 [10:16<06:55,  4.82it/s]  "
     ]
    },
    {
     "name": "stdout",
     "output_type": "stream",
     "text": [
      "3000 rows. 중간 딜레이 5se\n",
      "\n"
     ]
    },
    {
     "name": "stderr",
     "output_type": "stream",
     "text": [
      " 80%|████████  | 4000/5000 [13:41<03:13,  5.16it/s]"
     ]
    },
    {
     "name": "stdout",
     "output_type": "stream",
     "text": [
      "4000 rows. 중간 딜레이 5se\n",
      "\n"
     ]
    },
    {
     "name": "stderr",
     "output_type": "stream",
     "text": [
      "100%|██████████| 5000/5000 [17:04<00:00,  4.88it/s]\n"
     ]
    },
    {
     "name": "stdout",
     "output_type": "stream",
     "text": [
      "Processing chunk 2/10\n"
     ]
    },
    {
     "name": "stderr",
     "output_type": "stream",
     "text": [
      " 20%|██        | 1000/5000 [03:17<12:54,  5.16it/s]"
     ]
    },
    {
     "name": "stdout",
     "output_type": "stream",
     "text": [
      "1000 rows. 중간 딜레이 5se\n",
      "\n"
     ]
    },
    {
     "name": "stderr",
     "output_type": "stream",
     "text": [
      " 40%|████      | 2000/5000 [06:39<09:56,  5.03it/s]  "
     ]
    },
    {
     "name": "stdout",
     "output_type": "stream",
     "text": [
      "2000 rows. 중간 딜레이 5se\n",
      "\n"
     ]
    },
    {
     "name": "stderr",
     "output_type": "stream",
     "text": [
      " 60%|██████    | 3000/5000 [10:03<06:43,  4.96it/s]  "
     ]
    },
    {
     "name": "stdout",
     "output_type": "stream",
     "text": [
      "3000 rows. 중간 딜레이 5se\n",
      "\n"
     ]
    },
    {
     "name": "stderr",
     "output_type": "stream",
     "text": [
      " 80%|████████  | 4000/5000 [13:27<03:15,  5.11it/s]"
     ]
    },
    {
     "name": "stdout",
     "output_type": "stream",
     "text": [
      "4000 rows. 중간 딜레이 5se\n",
      "\n"
     ]
    },
    {
     "name": "stderr",
     "output_type": "stream",
     "text": [
      "100%|██████████| 5000/5000 [16:50<00:00,  4.95it/s]\n"
     ]
    },
    {
     "name": "stdout",
     "output_type": "stream",
     "text": [
      "Processing chunk 3/10\n"
     ]
    },
    {
     "name": "stderr",
     "output_type": "stream",
     "text": [
      " 20%|██        | 1000/5000 [03:18<13:29,  4.94it/s]"
     ]
    },
    {
     "name": "stdout",
     "output_type": "stream",
     "text": [
      "1000 rows. 중간 딜레이 5se\n",
      "\n"
     ]
    },
    {
     "name": "stderr",
     "output_type": "stream",
     "text": [
      " 40%|████      | 2000/5000 [06:40<09:59,  5.00it/s]  "
     ]
    },
    {
     "name": "stdout",
     "output_type": "stream",
     "text": [
      "2000 rows. 중간 딜레이 5se\n",
      "\n"
     ]
    },
    {
     "name": "stderr",
     "output_type": "stream",
     "text": [
      " 60%|██████    | 3000/5000 [10:04<06:46,  4.92it/s]  "
     ]
    },
    {
     "name": "stdout",
     "output_type": "stream",
     "text": [
      "3000 rows. 중간 딜레이 5se\n",
      "\n"
     ]
    },
    {
     "name": "stderr",
     "output_type": "stream",
     "text": [
      " 80%|████████  | 4000/5000 [13:28<03:17,  5.06it/s]"
     ]
    },
    {
     "name": "stdout",
     "output_type": "stream",
     "text": [
      "4000 rows. 중간 딜레이 5se\n",
      "\n"
     ]
    },
    {
     "name": "stderr",
     "output_type": "stream",
     "text": [
      "100%|██████████| 5000/5000 [16:55<00:00,  4.92it/s]\n"
     ]
    },
    {
     "name": "stdout",
     "output_type": "stream",
     "text": [
      "Processing chunk 4/10\n"
     ]
    },
    {
     "name": "stderr",
     "output_type": "stream",
     "text": [
      " 20%|██        | 1000/5000 [03:24<13:14,  5.04it/s]"
     ]
    },
    {
     "name": "stdout",
     "output_type": "stream",
     "text": [
      "1000 rows. 중간 딜레이 5se\n",
      "\n"
     ]
    },
    {
     "name": "stderr",
     "output_type": "stream",
     "text": [
      " 40%|████      | 2000/5000 [06:51<10:14,  4.88it/s]  "
     ]
    },
    {
     "name": "stdout",
     "output_type": "stream",
     "text": [
      "2000 rows. 중간 딜레이 5se\n",
      "\n"
     ]
    },
    {
     "name": "stderr",
     "output_type": "stream",
     "text": [
      " 60%|██████    | 3000/5000 [10:19<06:40,  4.99it/s]  "
     ]
    },
    {
     "name": "stdout",
     "output_type": "stream",
     "text": [
      "3000 rows. 중간 딜레이 5se\n",
      "\n"
     ]
    },
    {
     "name": "stderr",
     "output_type": "stream",
     "text": [
      " 80%|████████  | 4000/5000 [13:49<03:21,  4.95it/s]"
     ]
    },
    {
     "name": "stdout",
     "output_type": "stream",
     "text": [
      "4000 rows. 중간 딜레이 5se\n",
      "\n"
     ]
    },
    {
     "name": "stderr",
     "output_type": "stream",
     "text": [
      "100%|██████████| 5000/5000 [17:16<00:00,  4.82it/s]\n"
     ]
    },
    {
     "name": "stdout",
     "output_type": "stream",
     "text": [
      "Processing chunk 5/10\n"
     ]
    },
    {
     "name": "stderr",
     "output_type": "stream",
     "text": [
      " 20%|██        | 1000/5000 [03:22<13:21,  4.99it/s]"
     ]
    },
    {
     "name": "stdout",
     "output_type": "stream",
     "text": [
      "1000 rows. 중간 딜레이 5se\n",
      "\n"
     ]
    },
    {
     "name": "stderr",
     "output_type": "stream",
     "text": [
      " 40%|████      | 2000/5000 [06:50<10:08,  4.93it/s]  "
     ]
    },
    {
     "name": "stdout",
     "output_type": "stream",
     "text": [
      "2000 rows. 중간 딜레이 5se\n",
      "\n"
     ]
    },
    {
     "name": "stderr",
     "output_type": "stream",
     "text": [
      " 60%|██████    | 3000/5000 [10:21<06:49,  4.89it/s]  "
     ]
    },
    {
     "name": "stdout",
     "output_type": "stream",
     "text": [
      "3000 rows. 중간 딜레이 5se\n",
      "\n"
     ]
    },
    {
     "name": "stderr",
     "output_type": "stream",
     "text": [
      " 80%|████████  | 4000/5000 [13:52<03:20,  4.98it/s]"
     ]
    },
    {
     "name": "stdout",
     "output_type": "stream",
     "text": [
      "4000 rows. 중간 딜레이 5se\n",
      "\n"
     ]
    },
    {
     "name": "stderr",
     "output_type": "stream",
     "text": [
      "100%|██████████| 5000/5000 [17:22<00:00,  4.79it/s]\n"
     ]
    },
    {
     "name": "stdout",
     "output_type": "stream",
     "text": [
      "Processing chunk 6/10\n"
     ]
    },
    {
     "name": "stderr",
     "output_type": "stream",
     "text": [
      " 20%|██        | 1000/5000 [03:25<13:29,  4.94it/s]"
     ]
    },
    {
     "name": "stdout",
     "output_type": "stream",
     "text": [
      "1000 rows. 중간 딜레이 5se\n",
      "\n"
     ]
    },
    {
     "name": "stderr",
     "output_type": "stream",
     "text": [
      " 40%|████      | 2000/5000 [06:54<10:21,  4.83it/s]  "
     ]
    },
    {
     "name": "stdout",
     "output_type": "stream",
     "text": [
      "2000 rows. 중간 딜레이 5se\n",
      "\n"
     ]
    },
    {
     "name": "stderr",
     "output_type": "stream",
     "text": [
      " 60%|██████    | 3000/5000 [10:24<06:50,  4.87it/s]  "
     ]
    },
    {
     "name": "stdout",
     "output_type": "stream",
     "text": [
      "3000 rows. 중간 딜레이 5se\n",
      "\n"
     ]
    },
    {
     "name": "stderr",
     "output_type": "stream",
     "text": [
      " 80%|████████  | 4000/5000 [13:54<03:20,  4.99it/s]"
     ]
    },
    {
     "name": "stdout",
     "output_type": "stream",
     "text": [
      "4000 rows. 중간 딜레이 5se\n",
      "\n"
     ]
    },
    {
     "name": "stderr",
     "output_type": "stream",
     "text": [
      "100%|██████████| 5000/5000 [17:24<00:00,  4.79it/s]\n"
     ]
    },
    {
     "name": "stdout",
     "output_type": "stream",
     "text": [
      "Processing chunk 7/10\n"
     ]
    },
    {
     "name": "stderr",
     "output_type": "stream",
     "text": [
      " 20%|██        | 1000/5000 [03:24<13:15,  5.03it/s]"
     ]
    },
    {
     "name": "stdout",
     "output_type": "stream",
     "text": [
      "1000 rows. 중간 딜레이 5se\n",
      "\n"
     ]
    },
    {
     "name": "stderr",
     "output_type": "stream",
     "text": [
      " 40%|████      | 2000/5000 [06:56<10:16,  4.87it/s]  "
     ]
    },
    {
     "name": "stdout",
     "output_type": "stream",
     "text": [
      "2000 rows. 중간 딜레이 5se\n",
      "\n"
     ]
    },
    {
     "name": "stderr",
     "output_type": "stream",
     "text": [
      " 60%|██████    | 3000/5000 [10:26<06:42,  4.96it/s]  "
     ]
    },
    {
     "name": "stdout",
     "output_type": "stream",
     "text": [
      "3000 rows. 중간 딜레이 5se\n",
      "\n"
     ]
    },
    {
     "name": "stderr",
     "output_type": "stream",
     "text": [
      " 80%|████████  | 4000/5000 [13:56<03:24,  4.88it/s]"
     ]
    },
    {
     "name": "stdout",
     "output_type": "stream",
     "text": [
      "4000 rows. 중간 딜레이 5se\n",
      "\n"
     ]
    },
    {
     "name": "stderr",
     "output_type": "stream",
     "text": [
      "100%|██████████| 5000/5000 [17:26<00:00,  4.78it/s]\n"
     ]
    },
    {
     "name": "stdout",
     "output_type": "stream",
     "text": [
      "Processing chunk 8/10\n"
     ]
    },
    {
     "name": "stderr",
     "output_type": "stream",
     "text": [
      " 20%|██        | 1000/5000 [03:25<13:53,  4.80it/s]"
     ]
    },
    {
     "name": "stdout",
     "output_type": "stream",
     "text": [
      "1000 rows. 중간 딜레이 5se\n",
      "\n"
     ]
    },
    {
     "name": "stderr",
     "output_type": "stream",
     "text": [
      " 40%|████      | 2000/5000 [06:56<10:25,  4.79it/s]  "
     ]
    },
    {
     "name": "stdout",
     "output_type": "stream",
     "text": [
      "2000 rows. 중간 딜레이 5se\n",
      "\n"
     ]
    },
    {
     "name": "stderr",
     "output_type": "stream",
     "text": [
      " 60%|██████    | 3000/5000 [10:26<06:42,  4.97it/s]  "
     ]
    },
    {
     "name": "stdout",
     "output_type": "stream",
     "text": [
      "3000 rows. 중간 딜레이 5se\n",
      "\n"
     ]
    },
    {
     "name": "stderr",
     "output_type": "stream",
     "text": [
      " 80%|████████  | 4000/5000 [13:56<03:22,  4.93it/s]"
     ]
    },
    {
     "name": "stdout",
     "output_type": "stream",
     "text": [
      "4000 rows. 중간 딜레이 5se\n",
      "\n"
     ]
    },
    {
     "name": "stderr",
     "output_type": "stream",
     "text": [
      "100%|██████████| 5000/5000 [17:26<00:00,  4.78it/s]\n"
     ]
    },
    {
     "name": "stdout",
     "output_type": "stream",
     "text": [
      "Processing chunk 9/10\n"
     ]
    },
    {
     "name": "stderr",
     "output_type": "stream",
     "text": [
      " 20%|██        | 1000/5000 [03:25<14:02,  4.75it/s]"
     ]
    },
    {
     "name": "stdout",
     "output_type": "stream",
     "text": [
      "1000 rows. 중간 딜레이 5se\n",
      "\n"
     ]
    },
    {
     "name": "stderr",
     "output_type": "stream",
     "text": [
      " 40%|████      | 2000/5000 [06:55<10:30,  4.76it/s]  "
     ]
    },
    {
     "name": "stdout",
     "output_type": "stream",
     "text": [
      "2000 rows. 중간 딜레이 5se\n",
      "\n"
     ]
    },
    {
     "name": "stderr",
     "output_type": "stream",
     "text": [
      " 60%|██████    | 3000/5000 [10:25<06:41,  4.98it/s]  "
     ]
    },
    {
     "name": "stdout",
     "output_type": "stream",
     "text": [
      "3000 rows. 중간 딜레이 5se\n",
      "\n"
     ]
    },
    {
     "name": "stderr",
     "output_type": "stream",
     "text": [
      " 80%|████████  | 4000/5000 [13:55<03:22,  4.94it/s]"
     ]
    },
    {
     "name": "stdout",
     "output_type": "stream",
     "text": [
      "4000 rows. 중간 딜레이 5se\n",
      "\n"
     ]
    },
    {
     "name": "stderr",
     "output_type": "stream",
     "text": [
      "100%|██████████| 5000/5000 [17:25<00:00,  4.78it/s]\n"
     ]
    },
    {
     "name": "stdout",
     "output_type": "stream",
     "text": [
      "Processing chunk 10/10\n"
     ]
    },
    {
     "name": "stderr",
     "output_type": "stream",
     "text": [
      " 20%|██        | 1000/5000 [03:24<13:45,  4.85it/s]"
     ]
    },
    {
     "name": "stdout",
     "output_type": "stream",
     "text": [
      "1000 rows. 중간 딜레이 5se\n",
      "\n"
     ]
    },
    {
     "name": "stderr",
     "output_type": "stream",
     "text": [
      " 40%|████      | 2000/5000 [06:55<09:58,  5.01it/s]  "
     ]
    },
    {
     "name": "stdout",
     "output_type": "stream",
     "text": [
      "2000 rows. 중간 딜레이 5se\n",
      "\n"
     ]
    },
    {
     "name": "stderr",
     "output_type": "stream",
     "text": [
      " 60%|██████    | 3000/5000 [10:25<06:39,  5.00it/s]  "
     ]
    },
    {
     "name": "stdout",
     "output_type": "stream",
     "text": [
      "3000 rows. 중간 딜레이 5se\n",
      "\n"
     ]
    },
    {
     "name": "stderr",
     "output_type": "stream",
     "text": [
      " 80%|████████  | 4000/5000 [13:55<03:31,  4.74it/s]"
     ]
    },
    {
     "name": "stdout",
     "output_type": "stream",
     "text": [
      "4000 rows. 중간 딜레이 5se\n",
      "\n"
     ]
    },
    {
     "name": "stderr",
     "output_type": "stream",
     "text": [
      "100%|██████████| 5000/5000 [17:26<00:00,  4.78it/s]\n"
     ]
    }
   ],
   "source": [
    "chunks = np.array_split(partial_data, 10)\n",
    "processed_chunks = []\n",
    "\n",
    "for i, chunk in enumerate(chunks):\n",
    "    print(f\"Processing chunk {i+1}/10\")\n",
    "\n",
    "    try:\n",
    "        result = add_to_pos(chunk, api_key=api_key, chunk_index=i+1)\n",
    "\n",
    "        result.to_csv(f'./backup_chunk/processed_chunk_data3 {i+1}.csv', index=False)\n",
    "        processed_chunks.append(result)\n",
    "    except Exception as e:\n",
    "        print(f\"중단된 청크 : {i+1}, 발생 에러 : {e}\")\n",
    "        break\n",
    "    "
   ]
  },
  {
   "cell_type": "markdown",
   "id": "25fc80fb",
   "metadata": {},
   "source": [
    "### 처리된 부분 데이터 => 통합 및 저장"
   ]
  },
  {
   "cell_type": "code",
   "execution_count": 12,
   "id": "4ed6868c",
   "metadata": {},
   "outputs": [],
   "source": [
    "final_data = pd.concat(processed_chunks, ignore_index=True)\n",
    "final_data.to_csv('data4_2_processed_data.csv', index=False)"
   ]
  }
 ],
 "metadata": {
  "kernelspec": {
   "display_name": "data_venv",
   "language": "python",
   "name": "python3"
  },
  "language_info": {
   "codemirror_mode": {
    "name": "ipython",
    "version": 3
   },
   "file_extension": ".py",
   "mimetype": "text/x-python",
   "name": "python",
   "nbconvert_exporter": "python",
   "pygments_lexer": "ipython3",
   "version": "3.10.18"
  }
 },
 "nbformat": 4,
 "nbformat_minor": 5
}
