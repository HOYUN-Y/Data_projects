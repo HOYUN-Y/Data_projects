{
 "cells": [
  {
   "cell_type": "markdown",
   "id": "cedb4799",
   "metadata": {},
   "source": [
    "### 수원시 SRI 공공데이터 활용 주정차 부족 문제 분석"
   ]
  },
  {
   "cell_type": "code",
   "execution_count": 1,
   "id": "63a387f0",
   "metadata": {},
   "outputs": [],
   "source": [
    "import pandas as pd\n",
    "import numpy as np\n",
    "import matplotlib.pyplot as plt\n",
    "import seaborn as sns\n",
    "import json\n",
    "pd.set_option('display.max_columns',None)"
   ]
  },
  {
   "cell_type": "code",
   "execution_count": 2,
   "id": "8b2215bf",
   "metadata": {},
   "outputs": [],
   "source": [
    "#filepath = '/content/drive/Othercomputers/Macbook_pro/dev_macbook_sync/DEV/dev_dataProj/[team]Dacon_proj/dataset' #호윤_colab환경\n",
    "#filepath = '../../git_ignore_file/dataset/dacon_suwon_policy_proposal/' #호윤_local환경\n",
    "filepath = '../../git_ignore_file/dataset/suwon_sri_data' #류호윤_맥북"
   ]
  },
  {
   "cell_type": "code",
   "execution_count": 3,
   "id": "e0b6f57c",
   "metadata": {},
   "outputs": [],
   "source": [
    "survey_2024_3 = pd.read_excel(f'{filepath}/(공개용) 2024년 3분기 패널조사 데이터(가중치).xlsx') #2024년 3분기 패널조사 데이터\n",
    "survey_2024_4 = pd.read_excel(f'{filepath}/(공개용) 2024년 4분기 패널조사 데이터(가중치).xlsx')#2024년 4분기 패널조사 데이터\n",
    "survey_2025_1 = pd.read_excel(f'{filepath}/(공개용) 2025년 1분기 패널조사_데이터(가중치).xlsx')#2025년 1분기 패널조사_데이터\n",
    "survey_2025_2 = pd.read_excel(f'{filepath}/(공개용)2025년 2분기 패널조사_데이터(가중치).xlsx')#2025년 2분기 패널조사_데이터\n",
    "city_policy_data = pd.read_excel(f'{filepath}/수원시 도시정책지표 공개 데이터.xlsx') #도시정책지표 데이터\n",
    "survey_2023 = pd.read_excel(f'{filepath}/(HRC250611) 2023년 수원서베이 용역_공개용 데이터(엑셀).xlsx') #2024년 수원서베이 용역 \n",
    "survey_2024 = pd.read_excel(f'{filepath}/(HRC250604) 2024년 수원서베이 용역_공개용 데이터(엑셀).xlsx')#2023년 수원서베이 용역"
   ]
  },
  {
   "cell_type": "markdown",
   "id": "8a021e75",
   "metadata": {},
   "source": [
    "### 활용 가능한 교통 관련 문항 추출 및 분석\n",
    "- 2025년 1분기\n",
    "    - 문항\n",
    "        - q8\n",
    "            - ![](./sri_data_question/2025_1_q8.png)\n",
    "        - \n",
    "- 공개용데이터 중 2023년 수원서베이 용역_공개용 데이터(엑셀)\n",
    "    - 문항\n",
    "        - 문16. 수원시 교통환경 - 1. 교통인프라 환경\n",
    "        - 문29. 수원의 매력적인 장소(주관식)\n",
    "        - 문48. 수원시 10대 비전(2. 편리하고 효율적인/ 첨단교통 도시)\n",
    "        - 문50. 수원시 정책분야 중요도(2. 교통)\n",
    "        - 문55-1. 수원시가 가장 잘 하고 있는 것(주관식)\n",
    "        - 문55-2. 수원시가 시급히 걔선해야하는 것(주관식)\n",
    "\n",
    "- 공개용데이터 중 2024년 수원서베이 용역_공개용 데이터(엑셀)\n",
    "    - 문항\n",
    "        - 문16. 귀하는 평소 이동하실 때 주로 어떠한 교통수단을 이용하십니까?\n",
    "        - 문17. 다음의 수원시 교통 수단이나 시설별로 관련 인프라가 얼마나 잘 구축되어 있다고 생각하십니까?\n",
    "        - 문18. 다음의 수원시 교통 수단이나 시설별로 얼마나 만족하십니까? \n",
    "        - 문62-1. 수원시가 가장 잘 하고 있는 것\n",
    "        - 문62-2. 수원시가 시급히 개선해야 하는 것"
   ]
  },
  {
   "cell_type": "code",
   "execution_count": null,
   "id": "604567d1",
   "metadata": {},
   "outputs": [],
   "source": []
  }
 ],
 "metadata": {
  "kernelspec": {
   "display_name": "data_venv",
   "language": "python",
   "name": "python3"
  },
  "language_info": {
   "codemirror_mode": {
    "name": "ipython",
    "version": 3
   },
   "file_extension": ".py",
   "mimetype": "text/x-python",
   "name": "python",
   "nbconvert_exporter": "python",
   "pygments_lexer": "ipython3",
   "version": "3.8.20"
  }
 },
 "nbformat": 4,
 "nbformat_minor": 5
}
