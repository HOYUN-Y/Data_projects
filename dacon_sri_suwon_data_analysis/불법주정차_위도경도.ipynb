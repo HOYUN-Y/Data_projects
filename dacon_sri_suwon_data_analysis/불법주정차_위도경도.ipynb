{
 "cells": [
  {
   "cell_type": "markdown",
   "id": "abe8f97c",
   "metadata": {},
   "source": [
    "# 불법주정차 데이터 위도/경도 수집 (Kakao Api)\n"
   ]
  },
  {
   "cell_type": "markdown",
   "id": "b5ba362e",
   "metadata": {},
   "source": [
    "### Present working directory"
   ]
  },
  {
   "cell_type": "code",
   "execution_count": 12,
   "id": "45c5e0a4",
   "metadata": {},
   "outputs": [
    {
     "name": "stdout",
     "output_type": "stream",
     "text": [
      "/Users/lyuhoyun/Documents/GitHub/Data-projects/dacon_sri_suwon_data_analysis\n"
     ]
    }
   ],
   "source": [
    "!pwd"
   ]
  },
  {
   "cell_type": "markdown",
   "id": "e537e1ff",
   "metadata": {},
   "source": [
    "### 패키지 설치"
   ]
  },
  {
   "cell_type": "code",
   "execution_count": 11,
   "id": "33962f8e",
   "metadata": {},
   "outputs": [
    {
     "name": "stdout",
     "output_type": "stream",
     "text": [
      "Requirement already satisfied: pandas in /opt/anaconda3/envs/data_venv/lib/python3.8/site-packages (2.0.3)\n",
      "Requirement already satisfied: numpy in /opt/anaconda3/envs/data_venv/lib/python3.8/site-packages (1.24.4)\n",
      "Requirement already satisfied: tqdm in /opt/anaconda3/envs/data_venv/lib/python3.8/site-packages (4.67.1)\n",
      "Requirement already satisfied: requests in /opt/anaconda3/envs/data_venv/lib/python3.8/site-packages (2.32.4)\n",
      "Requirement already satisfied: python-dateutil>=2.8.2 in /opt/anaconda3/envs/data_venv/lib/python3.8/site-packages (from pandas) (2.9.0)\n",
      "Requirement already satisfied: pytz>=2020.1 in /opt/anaconda3/envs/data_venv/lib/python3.8/site-packages (from pandas) (2025.2)\n",
      "Requirement already satisfied: tzdata>=2022.1 in /opt/anaconda3/envs/data_venv/lib/python3.8/site-packages (from pandas) (2025.2)\n",
      "Requirement already satisfied: charset_normalizer<4,>=2 in /opt/anaconda3/envs/data_venv/lib/python3.8/site-packages (from requests) (3.4.2)\n",
      "Requirement already satisfied: idna<4,>=2.5 in /opt/anaconda3/envs/data_venv/lib/python3.8/site-packages (from requests) (3.10)\n",
      "Requirement already satisfied: urllib3<3,>=1.21.1 in /opt/anaconda3/envs/data_venv/lib/python3.8/site-packages (from requests) (2.2.3)\n",
      "Requirement already satisfied: certifi>=2017.4.17 in /opt/anaconda3/envs/data_venv/lib/python3.8/site-packages (from requests) (2025.4.26)\n",
      "Requirement already satisfied: six>=1.5 in /opt/anaconda3/envs/data_venv/lib/python3.8/site-packages (from python-dateutil>=2.8.2->pandas) (1.16.0)\n"
     ]
    }
   ],
   "source": [
    "!pip install pandas numpy tqdm requests"
   ]
  },
  {
   "cell_type": "markdown",
   "id": "35302dbb",
   "metadata": {},
   "source": [
    "### 패키지 다운로드"
   ]
  },
  {
   "cell_type": "code",
   "execution_count": 1,
   "id": "8485f007",
   "metadata": {},
   "outputs": [],
   "source": [
    "import pandas as pd\n",
    "import numpy as np\n",
    "from tqdm import tqdm\n",
    "import time\n",
    "import json\n",
    "import requests"
   ]
  },
  {
   "cell_type": "markdown",
   "id": "f7651f77",
   "metadata": {},
   "source": [
    "### 카카오 API키 및 API 동작확인"
   ]
  },
  {
   "cell_type": "code",
   "execution_count": null,
   "id": "e313473c",
   "metadata": {},
   "outputs": [],
   "source": [
    "api_key = \"API KEY\""
   ]
  },
  {
   "cell_type": "code",
   "execution_count": 14,
   "id": "1ebf7e74",
   "metadata": {},
   "outputs": [
    {
     "data": {
      "text/plain": [
       "{'documents': [{'address': {'address_name': '서울 송파구 장지동 878',\n",
       "    'b_code': '1171010900',\n",
       "    'h_code': '1171064700',\n",
       "    'main_address_no': '878',\n",
       "    'mountain_yn': 'N',\n",
       "    'region_1depth_name': '서울',\n",
       "    'region_2depth_name': '송파구',\n",
       "    'region_3depth_h_name': '위례동',\n",
       "    'region_3depth_name': '장지동',\n",
       "    'sub_address_no': '',\n",
       "    'x': '127.14004016241',\n",
       "    'y': '37.4804774688545'},\n",
       "   'address_name': '서울 송파구 위례광장로 185',\n",
       "   'address_type': 'ROAD_ADDR',\n",
       "   'road_address': {'address_name': '서울 송파구 위례광장로 185',\n",
       "    'building_name': '위례신도시 송파푸르지오',\n",
       "    'main_building_no': '185',\n",
       "    'region_1depth_name': '서울',\n",
       "    'region_2depth_name': '송파구',\n",
       "    'region_3depth_name': '장지동',\n",
       "    'road_name': '위례광장로',\n",
       "    'sub_building_no': '',\n",
       "    'underground_yn': 'N',\n",
       "    'x': '127.14004016241',\n",
       "    'y': '37.4804774688545',\n",
       "    'zone_no': '05848'},\n",
       "   'x': '127.14004016241',\n",
       "   'y': '37.4804774688545'}],\n",
       " 'meta': {'is_end': True, 'pageable_count': 1, 'total_count': 1}}"
      ]
     },
     "metadata": {},
     "output_type": "display_data"
    }
   ],
   "source": [
    "addr = '서울시 송파구 위례광장로 185'\n",
    "url = 'https://dapi.kakao.com/v2/local/search/address.json?query={address}'.format(address=addr)\n",
    "headers = {\n",
    "    \"Authorization\": f\"KakaoAK {api_key}\"\n",
    "}\n",
    "params = {\"query\": addr}\n",
    "\n",
    "result = json.loads(str(requests.get(url, headers=headers).text))\n",
    "display(result)"
   ]
  },
  {
   "cell_type": "markdown",
   "id": "387eeca9",
   "metadata": {},
   "source": [
    "### 데이터 불러오기"
   ]
  },
  {
   "cell_type": "code",
   "execution_count": 4,
   "id": "4ca617a3",
   "metadata": {},
   "outputs": [],
   "source": [
    "data1 = pd.read_csv('parking_notcctv_1.csv')\n",
    "data2 = pd.read_csv('parking_notcctv_2.csv')\n",
    "data3 = pd.read_csv('parking_notcctv_3.csv')\n",
    "data4 = pd.read_csv('parking_notcctv_4.csv')\n",
    "data5 = pd.read_csv('parking_notcctv_5.csv')"
   ]
  },
  {
   "cell_type": "markdown",
   "id": "16c5a387",
   "metadata": {},
   "source": [
    "### 데이터 수집 및 적용 함수"
   ]
  },
  {
   "cell_type": "code",
   "execution_count": null,
   "id": "69082c67",
   "metadata": {},
   "outputs": [],
   "source": [
    "def get_lat_lng(addr):\n",
    "    headers = {\n",
    "        \"Authorization\": f\"KakaoAK {api_key}\"\n",
    "    }\n",
    "    params = {\"query\": addr}\n",
    "    url = \"https://dapi.kakao.com/v2/local/search/address.json\"\n",
    "    \n",
    "    response = requests.get(url, headers=headers, params=params)\n",
    "    time.sleep(0.15)\n",
    "    if response.status_code == 200:\n",
    "        documents = response.json().get(\"documents\")\n",
    "        if documents:\n",
    "            return float(documents[0][\"y\"]), float(documents[0][\"x\"])  # 위도, 경도\n",
    "    return None, None\n",
    "\n",
    "\n",
    "def add_to_pos(data):\n",
    "    tqdm.pandas()\n",
    "\n",
    "    latitudes = []\n",
    "    longitudes = []\n",
    "\n",
    "    for _, row in tqdm(data.iterrows(), total = len(data)):\n",
    "        lat, lng = get_lat_lng(row['단속장소'])\n",
    "        latitudes.append(lat)\n",
    "        longitudes.append(lng)\n",
    "\n",
    "    data['latitude'] = latitudes\n",
    "    data['longitude'] = longitudes\n",
    "\n",
    "    display(data.head(10))"
   ]
  },
  {
   "cell_type": "code",
   "execution_count": null,
   "id": "848c99db",
   "metadata": {},
   "outputs": [],
   "source": [
    "#샘플 테스트\n",
    "sample=data1.sample(10)"
   ]
  },
  {
   "cell_type": "markdown",
   "id": "36984cee",
   "metadata": {},
   "source": [
    "### 적용"
   ]
  },
  {
   "cell_type": "code",
   "execution_count": 8,
   "id": "3af1e4b3",
   "metadata": {},
   "outputs": [
    {
     "name": "stderr",
     "output_type": "stream",
     "text": [
      "100%|██████████| 10/10 [00:01<00:00,  5.87it/s]\n"
     ]
    },
    {
     "data": {
      "text/html": [
       "<div>\n",
       "<style scoped>\n",
       "    .dataframe tbody tr th:only-of-type {\n",
       "        vertical-align: middle;\n",
       "    }\n",
       "\n",
       "    .dataframe tbody tr th {\n",
       "        vertical-align: top;\n",
       "    }\n",
       "\n",
       "    .dataframe thead th {\n",
       "        text-align: right;\n",
       "    }\n",
       "</style>\n",
       "<table border=\"1\" class=\"dataframe\">\n",
       "  <thead>\n",
       "    <tr style=\"text-align: right;\">\n",
       "      <th></th>\n",
       "      <th>집계년도</th>\n",
       "      <th>시군명</th>\n",
       "      <th>관리기관명</th>\n",
       "      <th>단속일시정보</th>\n",
       "      <th>단속장소</th>\n",
       "      <th>단속방법</th>\n",
       "      <th>데이터기준일자</th>\n",
       "      <th>단속일시_월</th>\n",
       "      <th>단속일시_연</th>\n",
       "      <th>단속일시_일</th>\n",
       "      <th>단속일시_요일</th>\n",
       "      <th>단속일시_시</th>\n",
       "      <th>단속일시_isdaytime</th>\n",
       "      <th>단속일시_season</th>\n",
       "      <th>latitude</th>\n",
       "      <th>longitude</th>\n",
       "    </tr>\n",
       "  </thead>\n",
       "  <tbody>\n",
       "    <tr>\n",
       "      <th>24802</th>\n",
       "      <td>2022</td>\n",
       "      <td>수원시</td>\n",
       "      <td>영통구청</td>\n",
       "      <td>2022-02-22 19:52:00</td>\n",
       "      <td>이의동 센트럴타운로</td>\n",
       "      <td>주행형</td>\n",
       "      <td>2023-12-01</td>\n",
       "      <td>2</td>\n",
       "      <td>2022</td>\n",
       "      <td>22</td>\n",
       "      <td>Tuesday</td>\n",
       "      <td>19</td>\n",
       "      <td>night</td>\n",
       "      <td>winter</td>\n",
       "      <td>37.290024</td>\n",
       "      <td>127.053432</td>\n",
       "    </tr>\n",
       "    <tr>\n",
       "      <th>13454</th>\n",
       "      <td>2022</td>\n",
       "      <td>수원시</td>\n",
       "      <td>영통구청</td>\n",
       "      <td>2022-01-27 14:22:00</td>\n",
       "      <td>원천동 월드컵로193번길</td>\n",
       "      <td>주행형</td>\n",
       "      <td>2023-12-01</td>\n",
       "      <td>1</td>\n",
       "      <td>2022</td>\n",
       "      <td>27</td>\n",
       "      <td>Thursday</td>\n",
       "      <td>14</td>\n",
       "      <td>afternoon</td>\n",
       "      <td>winter</td>\n",
       "      <td>37.277262</td>\n",
       "      <td>127.044756</td>\n",
       "    </tr>\n",
       "    <tr>\n",
       "      <th>17861</th>\n",
       "      <td>2022</td>\n",
       "      <td>수원시</td>\n",
       "      <td>권선구청</td>\n",
       "      <td>2022-02-08 20:12:00</td>\n",
       "      <td>호매실동 호매실로104번길</td>\n",
       "      <td>주행형</td>\n",
       "      <td>2023-12-01</td>\n",
       "      <td>2</td>\n",
       "      <td>2022</td>\n",
       "      <td>8</td>\n",
       "      <td>Tuesday</td>\n",
       "      <td>20</td>\n",
       "      <td>night</td>\n",
       "      <td>winter</td>\n",
       "      <td>37.258327</td>\n",
       "      <td>126.962288</td>\n",
       "    </tr>\n",
       "    <tr>\n",
       "      <th>71998</th>\n",
       "      <td>2022</td>\n",
       "      <td>수원시</td>\n",
       "      <td>영통구청</td>\n",
       "      <td>2022-05-18 19:54:00</td>\n",
       "      <td>매탄동 매탄로126번길</td>\n",
       "      <td>주행형</td>\n",
       "      <td>2023-12-01</td>\n",
       "      <td>5</td>\n",
       "      <td>2022</td>\n",
       "      <td>18</td>\n",
       "      <td>Wednesday</td>\n",
       "      <td>19</td>\n",
       "      <td>night</td>\n",
       "      <td>spring</td>\n",
       "      <td>37.261470</td>\n",
       "      <td>127.046333</td>\n",
       "    </tr>\n",
       "    <tr>\n",
       "      <th>53743</th>\n",
       "      <td>2022</td>\n",
       "      <td>수원시</td>\n",
       "      <td>장안구청</td>\n",
       "      <td>2022-04-16 10:29:00</td>\n",
       "      <td>하광교동 수원북부순환로</td>\n",
       "      <td>주행형</td>\n",
       "      <td>2023-12-01</td>\n",
       "      <td>4</td>\n",
       "      <td>2022</td>\n",
       "      <td>16</td>\n",
       "      <td>Saturday</td>\n",
       "      <td>10</td>\n",
       "      <td>morning</td>\n",
       "      <td>spring</td>\n",
       "      <td>NaN</td>\n",
       "      <td>NaN</td>\n",
       "    </tr>\n",
       "    <tr>\n",
       "      <th>30729</th>\n",
       "      <td>2022</td>\n",
       "      <td>수원시</td>\n",
       "      <td>권선구청</td>\n",
       "      <td>2022-03-07 09:19:00</td>\n",
       "      <td>금곡동 서수원로577번길</td>\n",
       "      <td>주행형</td>\n",
       "      <td>2023-12-01</td>\n",
       "      <td>3</td>\n",
       "      <td>2022</td>\n",
       "      <td>7</td>\n",
       "      <td>Monday</td>\n",
       "      <td>9</td>\n",
       "      <td>morning</td>\n",
       "      <td>spring</td>\n",
       "      <td>37.276814</td>\n",
       "      <td>126.946092</td>\n",
       "    </tr>\n",
       "    <tr>\n",
       "      <th>57752</th>\n",
       "      <td>2022</td>\n",
       "      <td>수원시</td>\n",
       "      <td>팔달구청</td>\n",
       "      <td>2022-04-22 19:29:00</td>\n",
       "      <td>화서동 184-97 (교차로모퉁이 5m 이내)</td>\n",
       "      <td>국민신문고</td>\n",
       "      <td>2023-12-01</td>\n",
       "      <td>4</td>\n",
       "      <td>2022</td>\n",
       "      <td>22</td>\n",
       "      <td>Friday</td>\n",
       "      <td>19</td>\n",
       "      <td>night</td>\n",
       "      <td>spring</td>\n",
       "      <td>37.277935</td>\n",
       "      <td>127.003397</td>\n",
       "    </tr>\n",
       "    <tr>\n",
       "      <th>81807</th>\n",
       "      <td>2022</td>\n",
       "      <td>수원시</td>\n",
       "      <td>영통구청</td>\n",
       "      <td>2022-06-06 15:56:00</td>\n",
       "      <td>신동 권선로908번길</td>\n",
       "      <td>주행형</td>\n",
       "      <td>2023-12-01</td>\n",
       "      <td>6</td>\n",
       "      <td>2022</td>\n",
       "      <td>6</td>\n",
       "      <td>Monday</td>\n",
       "      <td>15</td>\n",
       "      <td>afternoon</td>\n",
       "      <td>summer</td>\n",
       "      <td>37.247108</td>\n",
       "      <td>127.044514</td>\n",
       "    </tr>\n",
       "    <tr>\n",
       "      <th>41701</th>\n",
       "      <td>2022</td>\n",
       "      <td>수원시</td>\n",
       "      <td>영통구청</td>\n",
       "      <td>2022-03-26 13:15:00</td>\n",
       "      <td>영통구 영통동 998-6</td>\n",
       "      <td>국민신문고</td>\n",
       "      <td>2023-12-01</td>\n",
       "      <td>3</td>\n",
       "      <td>2022</td>\n",
       "      <td>26</td>\n",
       "      <td>Saturday</td>\n",
       "      <td>13</td>\n",
       "      <td>afternoon</td>\n",
       "      <td>spring</td>\n",
       "      <td>37.252069</td>\n",
       "      <td>127.074449</td>\n",
       "    </tr>\n",
       "    <tr>\n",
       "      <th>43638</th>\n",
       "      <td>2022</td>\n",
       "      <td>수원시</td>\n",
       "      <td>영통구청</td>\n",
       "      <td>2022-03-30 14:31:00</td>\n",
       "      <td>망포동 영통로153번길</td>\n",
       "      <td>주행형</td>\n",
       "      <td>2023-12-01</td>\n",
       "      <td>3</td>\n",
       "      <td>2022</td>\n",
       "      <td>30</td>\n",
       "      <td>Wednesday</td>\n",
       "      <td>14</td>\n",
       "      <td>afternoon</td>\n",
       "      <td>spring</td>\n",
       "      <td>37.241545</td>\n",
       "      <td>127.052535</td>\n",
       "    </tr>\n",
       "  </tbody>\n",
       "</table>\n",
       "</div>"
      ],
      "text/plain": [
       "       집계년도  시군명 관리기관명               단속일시정보                       단속장소   단속방법  \\\n",
       "24802  2022  수원시  영통구청  2022-02-22 19:52:00                 이의동 센트럴타운로    주행형   \n",
       "13454  2022  수원시  영통구청  2022-01-27 14:22:00              원천동 월드컵로193번길    주행형   \n",
       "17861  2022  수원시  권선구청  2022-02-08 20:12:00             호매실동 호매실로104번길    주행형   \n",
       "71998  2022  수원시  영통구청  2022-05-18 19:54:00               매탄동 매탄로126번길    주행형   \n",
       "53743  2022  수원시  장안구청  2022-04-16 10:29:00               하광교동 수원북부순환로    주행형   \n",
       "30729  2022  수원시  권선구청  2022-03-07 09:19:00              금곡동 서수원로577번길    주행형   \n",
       "57752  2022  수원시  팔달구청  2022-04-22 19:29:00  화서동 184-97 (교차로모퉁이 5m 이내)  국민신문고   \n",
       "81807  2022  수원시  영통구청  2022-06-06 15:56:00                신동 권선로908번길    주행형   \n",
       "41701  2022  수원시  영통구청  2022-03-26 13:15:00              영통구 영통동 998-6  국민신문고   \n",
       "43638  2022  수원시  영통구청  2022-03-30 14:31:00               망포동 영통로153번길    주행형   \n",
       "\n",
       "          데이터기준일자  단속일시_월  단속일시_연  단속일시_일    단속일시_요일  단속일시_시 단속일시_isdaytime  \\\n",
       "24802  2023-12-01       2    2022      22    Tuesday      19          night   \n",
       "13454  2023-12-01       1    2022      27   Thursday      14      afternoon   \n",
       "17861  2023-12-01       2    2022       8    Tuesday      20          night   \n",
       "71998  2023-12-01       5    2022      18  Wednesday      19          night   \n",
       "53743  2023-12-01       4    2022      16   Saturday      10        morning   \n",
       "30729  2023-12-01       3    2022       7     Monday       9        morning   \n",
       "57752  2023-12-01       4    2022      22     Friday      19          night   \n",
       "81807  2023-12-01       6    2022       6     Monday      15      afternoon   \n",
       "41701  2023-12-01       3    2022      26   Saturday      13      afternoon   \n",
       "43638  2023-12-01       3    2022      30  Wednesday      14      afternoon   \n",
       "\n",
       "      단속일시_season   latitude   longitude  \n",
       "24802      winter  37.290024  127.053432  \n",
       "13454      winter  37.277262  127.044756  \n",
       "17861      winter  37.258327  126.962288  \n",
       "71998      spring  37.261470  127.046333  \n",
       "53743      spring        NaN         NaN  \n",
       "30729      spring  37.276814  126.946092  \n",
       "57752      spring  37.277935  127.003397  \n",
       "81807      summer  37.247108  127.044514  \n",
       "41701      spring  37.252069  127.074449  \n",
       "43638      spring  37.241545  127.052535  "
      ]
     },
     "metadata": {},
     "output_type": "display_data"
    }
   ],
   "source": [
    "add_to_pos(sample)"
   ]
  },
  {
   "cell_type": "markdown",
   "id": "9ae798b4",
   "metadata": {},
   "source": [
    "### 실제 데이터 주소 -> 위/경도 전환 \n",
    "시간 소요될 수 있음. 요청 당 0.15초 딜레이"
   ]
  },
  {
   "cell_type": "code",
   "execution_count": null,
   "id": "372e8e80",
   "metadata": {},
   "outputs": [],
   "source": [
    "partial_data = data1"
   ]
  },
  {
   "cell_type": "code",
   "execution_count": null,
   "id": "6c07818b",
   "metadata": {},
   "outputs": [],
   "source": [
    "add_to_pos(partial_data)"
   ]
  }
 ],
 "metadata": {
  "kernelspec": {
   "display_name": "data_venv",
   "language": "python",
   "name": "python3"
  },
  "language_info": {
   "codemirror_mode": {
    "name": "ipython",
    "version": 3
   },
   "file_extension": ".py",
   "mimetype": "text/x-python",
   "name": "python",
   "nbconvert_exporter": "python",
   "pygments_lexer": "ipython3",
   "version": "3.8.20"
  }
 },
 "nbformat": 4,
 "nbformat_minor": 5
}
