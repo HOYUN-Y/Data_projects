{
 "cells": [
  {
   "cell_type": "markdown",
   "id": "abe8f97c",
   "metadata": {},
   "source": [
    "# 불법주정차 데이터 위도/경도 수집 (Kakao Api)\n",
    "- https://developers.kakao.com\n",
    "- 카카오맵 api 허용 설정 필수"
   ]
  },
  {
   "cell_type": "markdown",
   "id": "b5ba362e",
   "metadata": {},
   "source": [
    "### Present working directory"
   ]
  },
  {
   "cell_type": "code",
   "execution_count": 12,
   "id": "45c5e0a4",
   "metadata": {},
   "outputs": [
    {
     "name": "stdout",
     "output_type": "stream",
     "text": [
      "/Users/lyuhoyun/Documents/GitHub/Data-projects/dacon_sri_suwon_data_analysis\n"
     ]
    }
   ],
   "source": [
    "!pwd"
   ]
  },
  {
   "cell_type": "markdown",
   "id": "e537e1ff",
   "metadata": {},
   "source": [
    "### 패키지 설치"
   ]
  },
  {
   "cell_type": "code",
   "execution_count": 11,
   "id": "33962f8e",
   "metadata": {},
   "outputs": [
    {
     "name": "stdout",
     "output_type": "stream",
     "text": [
      "Requirement already satisfied: pandas in /opt/anaconda3/envs/data_venv/lib/python3.8/site-packages (2.0.3)\n",
      "Requirement already satisfied: numpy in /opt/anaconda3/envs/data_venv/lib/python3.8/site-packages (1.24.4)\n",
      "Requirement already satisfied: tqdm in /opt/anaconda3/envs/data_venv/lib/python3.8/site-packages (4.67.1)\n",
      "Requirement already satisfied: requests in /opt/anaconda3/envs/data_venv/lib/python3.8/site-packages (2.32.4)\n",
      "Requirement already satisfied: python-dateutil>=2.8.2 in /opt/anaconda3/envs/data_venv/lib/python3.8/site-packages (from pandas) (2.9.0)\n",
      "Requirement already satisfied: pytz>=2020.1 in /opt/anaconda3/envs/data_venv/lib/python3.8/site-packages (from pandas) (2025.2)\n",
      "Requirement already satisfied: tzdata>=2022.1 in /opt/anaconda3/envs/data_venv/lib/python3.8/site-packages (from pandas) (2025.2)\n",
      "Requirement already satisfied: charset_normalizer<4,>=2 in /opt/anaconda3/envs/data_venv/lib/python3.8/site-packages (from requests) (3.4.2)\n",
      "Requirement already satisfied: idna<4,>=2.5 in /opt/anaconda3/envs/data_venv/lib/python3.8/site-packages (from requests) (3.10)\n",
      "Requirement already satisfied: urllib3<3,>=1.21.1 in /opt/anaconda3/envs/data_venv/lib/python3.8/site-packages (from requests) (2.2.3)\n",
      "Requirement already satisfied: certifi>=2017.4.17 in /opt/anaconda3/envs/data_venv/lib/python3.8/site-packages (from requests) (2025.4.26)\n",
      "Requirement already satisfied: six>=1.5 in /opt/anaconda3/envs/data_venv/lib/python3.8/site-packages (from python-dateutil>=2.8.2->pandas) (1.16.0)\n"
     ]
    }
   ],
   "source": [
    "!pip install pandas numpy tqdm requests"
   ]
  },
  {
   "cell_type": "markdown",
   "id": "35302dbb",
   "metadata": {},
   "source": [
    "### 패키지 다운로드"
   ]
  },
  {
   "cell_type": "code",
   "execution_count": 2,
   "id": "8485f007",
   "metadata": {},
   "outputs": [],
   "source": [
    "import pandas as pd\n",
    "import numpy as np\n",
    "from tqdm import tqdm\n",
    "import time\n",
    "import json\n",
    "import requests"
   ]
  },
  {
   "cell_type": "markdown",
   "id": "f7651f77",
   "metadata": {},
   "source": [
    "### 카카오 API키 및 API 동작확인"
   ]
  },
  {
   "cell_type": "code",
   "execution_count": null,
   "id": "e313473c",
   "metadata": {},
   "outputs": [],
   "source": [
    "api_key = \"API KEY\""
   ]
  },
  {
   "cell_type": "code",
   "execution_count": 4,
   "id": "1ebf7e74",
   "metadata": {},
   "outputs": [
    {
     "data": {
      "text/plain": [
       "{'documents': [{'address': {'address_name': '서울 송파구 장지동 878',\n",
       "    'b_code': '1171010900',\n",
       "    'h_code': '1171064700',\n",
       "    'main_address_no': '878',\n",
       "    'mountain_yn': 'N',\n",
       "    'region_1depth_name': '서울',\n",
       "    'region_2depth_name': '송파구',\n",
       "    'region_3depth_h_name': '위례동',\n",
       "    'region_3depth_name': '장지동',\n",
       "    'sub_address_no': '',\n",
       "    'x': '127.14004016241',\n",
       "    'y': '37.4804774688545'},\n",
       "   'address_name': '서울 송파구 위례광장로 185',\n",
       "   'address_type': 'ROAD_ADDR',\n",
       "   'road_address': {'address_name': '서울 송파구 위례광장로 185',\n",
       "    'building_name': '위례신도시 송파푸르지오',\n",
       "    'main_building_no': '185',\n",
       "    'region_1depth_name': '서울',\n",
       "    'region_2depth_name': '송파구',\n",
       "    'region_3depth_name': '장지동',\n",
       "    'road_name': '위례광장로',\n",
       "    'sub_building_no': '',\n",
       "    'underground_yn': 'N',\n",
       "    'x': '127.14004016241',\n",
       "    'y': '37.4804774688545',\n",
       "    'zone_no': '05848'},\n",
       "   'x': '127.14004016241',\n",
       "   'y': '37.4804774688545'}],\n",
       " 'meta': {'is_end': True, 'pageable_count': 1, 'total_count': 1}}"
      ]
     },
     "metadata": {},
     "output_type": "display_data"
    }
   ],
   "source": [
    "addr = '서울시 송파구 위례광장로 185'\n",
    "url = 'https://dapi.kakao.com/v2/local/search/address.json?query={address}'.format(address=addr)\n",
    "headers = {\n",
    "    \"Authorization\": f\"KakaoAK {api_key}\"\n",
    "}\n",
    "params = {\"query\": addr}\n",
    "\n",
    "result = json.loads(str(requests.get(url, headers=headers).text))\n",
    "display(result)"
   ]
  },
  {
   "cell_type": "markdown",
   "id": "387eeca9",
   "metadata": {},
   "source": [
    "### 데이터 불러오기"
   ]
  },
  {
   "cell_type": "code",
   "execution_count": 5,
   "id": "4ca617a3",
   "metadata": {},
   "outputs": [],
   "source": [
    "data1 = pd.read_csv('parking_notcctv_1.csv')\n",
    "data2 = pd.read_csv('parking_notcctv_2.csv')\n",
    "data3 = pd.read_csv('parking_notcctv_3.csv')\n",
    "data4 = pd.read_csv('parking_notcctv_4.csv')\n",
    "data5 = pd.read_csv('parking_notcctv_5.csv')"
   ]
  },
  {
   "cell_type": "markdown",
   "id": "16c5a387",
   "metadata": {},
   "source": [
    "### 데이터 수집 및 적용 함수"
   ]
  },
  {
   "cell_type": "code",
   "execution_count": 11,
   "id": "69082c67",
   "metadata": {},
   "outputs": [],
   "source": [
    "def get_lat_lng(addr):\n",
    "    headers = {\n",
    "        \"Authorization\": f\"KakaoAK {api_key}\"\n",
    "    }\n",
    "    params = {\"query\": addr}\n",
    "    url = \"https://dapi.kakao.com/v2/local/search/address.json\"\n",
    "    \n",
    "    response = requests.get(url, headers=headers, params=params)\n",
    "    time.sleep(0.15)\n",
    "    if response.status_code == 200:\n",
    "        documents = response.json().get(\"documents\")\n",
    "        if documents:\n",
    "            return float(documents[0][\"y\"]), float(documents[0][\"x\"])  # 위도, 경도\n",
    "    return None, None\n",
    "\n",
    "\n",
    "def add_to_pos(data):\n",
    "    tqdm.pandas()\n",
    "\n",
    "    latitudes = []\n",
    "    longitudes = []\n",
    "\n",
    "    for i,(_, row) in enumerate(tqdm(data.iterrows(), total=len(data))):\n",
    "        if i>0 and i%1000 == 0:\n",
    "            print(f'{i} rows. 중간 딜레이 5se\\n')\n",
    "    \n",
    "        \n",
    "        lat,lng = get_lat_lng(row['단속장소'])\n",
    "        latitudes.append(lat)\n",
    "        longitudes.append(lng)\n",
    "\n",
    "    data['latitude'] = latitudes\n",
    "    data['longitude'] = longitudes\n",
    "\n",
    "    #display(data.head(10))\n",
    "    return data"
   ]
  },
  {
   "cell_type": "code",
   "execution_count": 9,
   "id": "848c99db",
   "metadata": {},
   "outputs": [],
   "source": [
    "#샘플 테스트\n",
    "sample=data1.sample(10)"
   ]
  },
  {
   "cell_type": "markdown",
   "id": "36984cee",
   "metadata": {},
   "source": [
    "### 적용"
   ]
  },
  {
   "cell_type": "code",
   "execution_count": 12,
   "id": "3af1e4b3",
   "metadata": {},
   "outputs": [
    {
     "name": "stderr",
     "output_type": "stream",
     "text": [
      "100%|██████████| 10/10 [00:02<00:00,  4.74it/s]\n"
     ]
    },
    {
     "data": {
      "text/html": [
       "<div>\n",
       "<style scoped>\n",
       "    .dataframe tbody tr th:only-of-type {\n",
       "        vertical-align: middle;\n",
       "    }\n",
       "\n",
       "    .dataframe tbody tr th {\n",
       "        vertical-align: top;\n",
       "    }\n",
       "\n",
       "    .dataframe thead th {\n",
       "        text-align: right;\n",
       "    }\n",
       "</style>\n",
       "<table border=\"1\" class=\"dataframe\">\n",
       "  <thead>\n",
       "    <tr style=\"text-align: right;\">\n",
       "      <th></th>\n",
       "      <th>집계년도</th>\n",
       "      <th>시군명</th>\n",
       "      <th>관리기관명</th>\n",
       "      <th>단속일시정보</th>\n",
       "      <th>단속장소</th>\n",
       "      <th>단속방법</th>\n",
       "      <th>데이터기준일자</th>\n",
       "      <th>단속일시_월</th>\n",
       "      <th>단속일시_연</th>\n",
       "      <th>단속일시_일</th>\n",
       "      <th>단속일시_요일</th>\n",
       "      <th>단속일시_시</th>\n",
       "      <th>단속일시_isdaytime</th>\n",
       "      <th>단속일시_season</th>\n",
       "      <th>latitude</th>\n",
       "      <th>longitude</th>\n",
       "    </tr>\n",
       "  </thead>\n",
       "  <tbody>\n",
       "    <tr>\n",
       "      <th>19623</th>\n",
       "      <td>2022</td>\n",
       "      <td>수원시</td>\n",
       "      <td>팔달구청</td>\n",
       "      <td>2022-02-12 12:56:00</td>\n",
       "      <td>인계동 1123-18 (인도)</td>\n",
       "      <td>국민신문고</td>\n",
       "      <td>2023-12-01</td>\n",
       "      <td>2</td>\n",
       "      <td>2022</td>\n",
       "      <td>12</td>\n",
       "      <td>Saturday</td>\n",
       "      <td>12</td>\n",
       "      <td>morning</td>\n",
       "      <td>winter</td>\n",
       "      <td>37.262203</td>\n",
       "      <td>127.033793</td>\n",
       "    </tr>\n",
       "    <tr>\n",
       "      <th>88457</th>\n",
       "      <td>2022</td>\n",
       "      <td>수원시</td>\n",
       "      <td>팔달구청</td>\n",
       "      <td>2022-06-16 15:04:00</td>\n",
       "      <td>경기도수원시팔달구지동 수원시 팔달구 지동 444</td>\n",
       "      <td>보행</td>\n",
       "      <td>2023-12-01</td>\n",
       "      <td>6</td>\n",
       "      <td>2022</td>\n",
       "      <td>16</td>\n",
       "      <td>Thursday</td>\n",
       "      <td>15</td>\n",
       "      <td>afternoon</td>\n",
       "      <td>summer</td>\n",
       "      <td>37.276367</td>\n",
       "      <td>127.019671</td>\n",
       "    </tr>\n",
       "    <tr>\n",
       "      <th>28136</th>\n",
       "      <td>2022</td>\n",
       "      <td>수원시</td>\n",
       "      <td>영통구청</td>\n",
       "      <td>2022-03-02 05:01:00</td>\n",
       "      <td>영통구 매탄동 1301</td>\n",
       "      <td>국민신문고</td>\n",
       "      <td>2023-12-01</td>\n",
       "      <td>3</td>\n",
       "      <td>2022</td>\n",
       "      <td>2</td>\n",
       "      <td>Wednesday</td>\n",
       "      <td>5</td>\n",
       "      <td>night</td>\n",
       "      <td>spring</td>\n",
       "      <td>37.262654</td>\n",
       "      <td>127.046426</td>\n",
       "    </tr>\n",
       "    <tr>\n",
       "      <th>12021</th>\n",
       "      <td>2022</td>\n",
       "      <td>수원시</td>\n",
       "      <td>팔달구청</td>\n",
       "      <td>2022-01-24 20:21:00</td>\n",
       "      <td>경기도수원시팔달구화서동 수원시 팔달구 화양로 38번길 135-10삼양연립</td>\n",
       "      <td>보행</td>\n",
       "      <td>2023-12-01</td>\n",
       "      <td>1</td>\n",
       "      <td>2022</td>\n",
       "      <td>24</td>\n",
       "      <td>Monday</td>\n",
       "      <td>20</td>\n",
       "      <td>night</td>\n",
       "      <td>winter</td>\n",
       "      <td>37.281593</td>\n",
       "      <td>127.004137</td>\n",
       "    </tr>\n",
       "    <tr>\n",
       "      <th>7139</th>\n",
       "      <td>2022</td>\n",
       "      <td>수원시</td>\n",
       "      <td>팔달구청</td>\n",
       "      <td>2022-01-14 14:57:00</td>\n",
       "      <td>화서동 화서동 60-7(횡단보도)</td>\n",
       "      <td>국민신문고</td>\n",
       "      <td>2023-12-01</td>\n",
       "      <td>1</td>\n",
       "      <td>2022</td>\n",
       "      <td>14</td>\n",
       "      <td>Friday</td>\n",
       "      <td>14</td>\n",
       "      <td>afternoon</td>\n",
       "      <td>winter</td>\n",
       "      <td>37.279867</td>\n",
       "      <td>127.006438</td>\n",
       "    </tr>\n",
       "    <tr>\n",
       "      <th>46314</th>\n",
       "      <td>2022</td>\n",
       "      <td>수원시</td>\n",
       "      <td>팔달구청</td>\n",
       "      <td>2022-04-04 14:44:00</td>\n",
       "      <td>인계동 인계동 세지로188</td>\n",
       "      <td>주행형</td>\n",
       "      <td>2023-12-01</td>\n",
       "      <td>4</td>\n",
       "      <td>2022</td>\n",
       "      <td>4</td>\n",
       "      <td>Monday</td>\n",
       "      <td>14</td>\n",
       "      <td>afternoon</td>\n",
       "      <td>spring</td>\n",
       "      <td>37.268049</td>\n",
       "      <td>127.022639</td>\n",
       "    </tr>\n",
       "    <tr>\n",
       "      <th>21722</th>\n",
       "      <td>2022</td>\n",
       "      <td>수원시</td>\n",
       "      <td>장안구청</td>\n",
       "      <td>2022-02-16 15:10:00</td>\n",
       "      <td>천천동 만석로5번길</td>\n",
       "      <td>주행형</td>\n",
       "      <td>2023-12-01</td>\n",
       "      <td>2</td>\n",
       "      <td>2022</td>\n",
       "      <td>16</td>\n",
       "      <td>Wednesday</td>\n",
       "      <td>15</td>\n",
       "      <td>afternoon</td>\n",
       "      <td>winter</td>\n",
       "      <td>37.295971</td>\n",
       "      <td>126.982079</td>\n",
       "    </tr>\n",
       "    <tr>\n",
       "      <th>84742</th>\n",
       "      <td>2022</td>\n",
       "      <td>수원시</td>\n",
       "      <td>팔달구청</td>\n",
       "      <td>2022-06-10 19:03:00</td>\n",
       "      <td>인계동 965-18 (횡단보도)</td>\n",
       "      <td>국민신문고</td>\n",
       "      <td>2023-12-01</td>\n",
       "      <td>6</td>\n",
       "      <td>2022</td>\n",
       "      <td>10</td>\n",
       "      <td>Friday</td>\n",
       "      <td>19</td>\n",
       "      <td>night</td>\n",
       "      <td>summer</td>\n",
       "      <td>37.270409</td>\n",
       "      <td>127.026629</td>\n",
       "    </tr>\n",
       "    <tr>\n",
       "      <th>31142</th>\n",
       "      <td>2022</td>\n",
       "      <td>수원시</td>\n",
       "      <td>영통구청</td>\n",
       "      <td>2022-03-07 16:20:00</td>\n",
       "      <td>영통구 하동 1044-2</td>\n",
       "      <td>국민신문고</td>\n",
       "      <td>2023-12-01</td>\n",
       "      <td>3</td>\n",
       "      <td>2022</td>\n",
       "      <td>7</td>\n",
       "      <td>Monday</td>\n",
       "      <td>16</td>\n",
       "      <td>afternoon</td>\n",
       "      <td>spring</td>\n",
       "      <td>37.286947</td>\n",
       "      <td>127.063850</td>\n",
       "    </tr>\n",
       "    <tr>\n",
       "      <th>97563</th>\n",
       "      <td>2022</td>\n",
       "      <td>수원시</td>\n",
       "      <td>팔달구청</td>\n",
       "      <td>2022-07-03 20:21:00</td>\n",
       "      <td>화서동 96-23 (교차로모퉁이 5m 이내)</td>\n",
       "      <td>국민신문고</td>\n",
       "      <td>2023-12-01</td>\n",
       "      <td>7</td>\n",
       "      <td>2022</td>\n",
       "      <td>3</td>\n",
       "      <td>Sunday</td>\n",
       "      <td>20</td>\n",
       "      <td>night</td>\n",
       "      <td>summer</td>\n",
       "      <td>37.277614</td>\n",
       "      <td>127.002560</td>\n",
       "    </tr>\n",
       "  </tbody>\n",
       "</table>\n",
       "</div>"
      ],
      "text/plain": [
       "       집계년도  시군명 관리기관명               단속일시정보  \\\n",
       "19623  2022  수원시  팔달구청  2022-02-12 12:56:00   \n",
       "88457  2022  수원시  팔달구청  2022-06-16 15:04:00   \n",
       "28136  2022  수원시  영통구청  2022-03-02 05:01:00   \n",
       "12021  2022  수원시  팔달구청  2022-01-24 20:21:00   \n",
       "7139   2022  수원시  팔달구청  2022-01-14 14:57:00   \n",
       "46314  2022  수원시  팔달구청  2022-04-04 14:44:00   \n",
       "21722  2022  수원시  장안구청  2022-02-16 15:10:00   \n",
       "84742  2022  수원시  팔달구청  2022-06-10 19:03:00   \n",
       "31142  2022  수원시  영통구청  2022-03-07 16:20:00   \n",
       "97563  2022  수원시  팔달구청  2022-07-03 20:21:00   \n",
       "\n",
       "                                           단속장소   단속방법     데이터기준일자  단속일시_월  \\\n",
       "19623                          인계동 1123-18 (인도)  국민신문고  2023-12-01       2   \n",
       "88457                경기도수원시팔달구지동 수원시 팔달구 지동 444     보행  2023-12-01       6   \n",
       "28136                              영통구 매탄동 1301  국민신문고  2023-12-01       3   \n",
       "12021  경기도수원시팔달구화서동 수원시 팔달구 화양로 38번길 135-10삼양연립     보행  2023-12-01       1   \n",
       "7139                         화서동 화서동 60-7(횡단보도)  국민신문고  2023-12-01       1   \n",
       "46314                            인계동 인계동 세지로188    주행형  2023-12-01       4   \n",
       "21722                                천천동 만석로5번길    주행형  2023-12-01       2   \n",
       "84742                         인계동 965-18 (횡단보도)  국민신문고  2023-12-01       6   \n",
       "31142                             영통구 하동 1044-2  국민신문고  2023-12-01       3   \n",
       "97563                  화서동 96-23 (교차로모퉁이 5m 이내)  국민신문고  2023-12-01       7   \n",
       "\n",
       "       단속일시_연  단속일시_일    단속일시_요일  단속일시_시 단속일시_isdaytime 단속일시_season  \\\n",
       "19623    2022      12   Saturday      12        morning      winter   \n",
       "88457    2022      16   Thursday      15      afternoon      summer   \n",
       "28136    2022       2  Wednesday       5          night      spring   \n",
       "12021    2022      24     Monday      20          night      winter   \n",
       "7139     2022      14     Friday      14      afternoon      winter   \n",
       "46314    2022       4     Monday      14      afternoon      spring   \n",
       "21722    2022      16  Wednesday      15      afternoon      winter   \n",
       "84742    2022      10     Friday      19          night      summer   \n",
       "31142    2022       7     Monday      16      afternoon      spring   \n",
       "97563    2022       3     Sunday      20          night      summer   \n",
       "\n",
       "        latitude   longitude  \n",
       "19623  37.262203  127.033793  \n",
       "88457  37.276367  127.019671  \n",
       "28136  37.262654  127.046426  \n",
       "12021  37.281593  127.004137  \n",
       "7139   37.279867  127.006438  \n",
       "46314  37.268049  127.022639  \n",
       "21722  37.295971  126.982079  \n",
       "84742  37.270409  127.026629  \n",
       "31142  37.286947  127.063850  \n",
       "97563  37.277614  127.002560  "
      ]
     },
     "execution_count": 12,
     "metadata": {},
     "output_type": "execute_result"
    }
   ],
   "source": [
    "add_to_pos(sample)"
   ]
  },
  {
   "cell_type": "markdown",
   "id": "9ae798b4",
   "metadata": {},
   "source": [
    "### 실제 데이터 주소 -> 위/경도 전환 \n",
    "시간 소요될 수 있음. 요청 당 0.15초 딜레이"
   ]
  },
  {
   "cell_type": "code",
   "execution_count": null,
   "id": "372e8e80",
   "metadata": {},
   "outputs": [],
   "source": [
    "partial_data = data1"
   ]
  },
  {
   "cell_type": "code",
   "execution_count": null,
   "id": "6c07818b",
   "metadata": {},
   "outputs": [],
   "source": [
    "add_to_pos(partial_data)"
   ]
  },
  {
   "cell_type": "code",
   "execution_count": null,
   "id": "8b32ca64",
   "metadata": {},
   "outputs": [],
   "source": [
    "partial_data.to_csv('data_by_who', index=False)"
   ]
  }
 ],
 "metadata": {
  "kernelspec": {
   "display_name": "data_venv",
   "language": "python",
   "name": "python3"
  },
  "language_info": {
   "codemirror_mode": {
    "name": "ipython",
    "version": 3
   },
   "file_extension": ".py",
   "mimetype": "text/x-python",
   "name": "python",
   "nbconvert_exporter": "python",
   "pygments_lexer": "ipython3",
   "version": "3.8.20"
  }
 },
 "nbformat": 4,
 "nbformat_minor": 5
}
